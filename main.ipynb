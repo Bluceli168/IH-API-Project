{
 "cells": [
  {
   "cell_type": "markdown",
   "metadata": {},
   "source": [
    "# API Quest\n",
    "## Oslo"
   ]
  },
  {
   "cell_type": "markdown",
   "metadata": {},
   "source": [
    "# HYPOTHESIS\n",
    "- Rich countries have more Nobel Prizes\n",
    "    - Nobel prize winners immigrate towards rich countries\n",
    "    - Nobel prize winners immigrate towards stable countries\n",
    "- Countries of birth / early education have more impact than countries of higher education\n",
    "- Nobel Prizes Laureates are getting younger\n",
    "- Nobel Prizes are awarded more to international teams than before\n",
    "\n",
    "- Gender Differences: Is there a significant difference in the gender ratio among Nobel Prize winners? Has this changed over time?\n",
    "- Geographic Distribution: In which countries or regions are Nobel Prize winners predominantly located? Has this distribution changed over time?\n",
    "- Age of Winners: What is the age distribution of Nobel Prize winners? Are there any noticeable trends in age?\n",
    "- Publications: Are there specific journals where Nobel Prize winners’ research is commonly published? How influential are these journals?"
   ]
  },
  {
   "cell_type": "markdown",
   "metadata": {},
   "source": [
    "## HYPOTHESIS 1\n",
    "- Men are over represented in Nobel Prizes"
   ]
  },
  {
   "cell_type": "markdown",
   "metadata": {},
   "source": [
    "## Selected data sources\n",
    "\n",
    "1. Nobel API\n",
    "2. https://uis.unesco.org/\n",
    "3. https://databank.worldbank.org/source/world-development-indicators"
   ]
  },
  {
   "cell_type": "code",
   "execution_count": 1,
   "metadata": {},
   "outputs": [],
   "source": [
    "#TODO filter STEM fields\n",
    "#TODO modularize\n",
    "#TODO country analysis"
   ]
  },
  {
   "cell_type": "code",
   "execution_count": 2,
   "metadata": {},
   "outputs": [],
   "source": [
    "#imports\n",
    "import os\n",
    "import json\n",
    "import requests\n",
    "import pandas as pd\n",
    "from dotenv import load_dotenv\n",
    "from datetime import datetime\n",
    "import plotly.express as px\n",
    "from wrangling import *"
   ]
  },
  {
   "cell_type": "code",
   "execution_count": 3,
   "metadata": {},
   "outputs": [],
   "source": [
    "#settings\n",
    "pd.set_option('display.max_colwidth', 900)\n",
    "pd.set_option('display.max_rows', 40)"
   ]
  },
  {
   "cell_type": "code",
   "execution_count": null,
   "metadata": {},
   "outputs": [],
   "source": [
    "#load env\n",
    "load_dotenv()\n",
    "token = os.getenv('TOKEN')\n",
    "print(token)"
   ]
  },
  {
   "cell_type": "code",
   "execution_count": 5,
   "metadata": {},
   "outputs": [],
   "source": [
    "#TODO: Get the data from the API\n",
    "enrollment_df = pd.read_csv('sources/school_enrolment_gender.csv')\n",
    "enrollment_df.head()\n",
    "\n",
    "laureates_url = 'https://api.nobelprize.org/2.1/laureates'"
   ]
  },
  {
   "cell_type": "code",
   "execution_count": 6,
   "metadata": {},
   "outputs": [],
   "source": [
    "def flatten(dictionnary, prefix=''):\n",
    "    flattened = pd.json_normalize(dictionnary)\n",
    "\n",
    "    if prefix:\n",
    "        flattened = flattened.add_prefix(prefix + '.')\n",
    "\n",
    "    for column in flattened.columns:\n",
    "        sample = flattened[column].iloc[0]\n",
    "\n",
    "        if isinstance(sample, list) and len(sample) > 0 and isinstance(sample[0], dict):\n",
    "            # Find the maximum length of lists in the column\n",
    "            max_len = flattened[column].apply(lambda x: len(x) if isinstance(x, list) else 0).max()\n",
    "            for i in range(max_len):\n",
    "                inner_dict = flattened[column].apply(\n",
    "                    lambda x: x[i] if isinstance(x, list) and len(x) > i else None\n",
    "                )\n",
    "                flattened = pd.concat([flattened, flatten(inner_dict, f\"{column}_{i+1}\")], axis=1)\n",
    "            flattened.drop(column, axis=1, inplace=True)\n",
    "\n",
    "    return flattened"
   ]
  },
  {
   "cell_type": "code",
   "execution_count": 7,
   "metadata": {},
   "outputs": [],
   "source": [
    "def get_all_laureates():\n",
    "    offset = 0\n",
    "    limit = 25\n",
    "    max = 50\n",
    "    all_laureates = pd.DataFrame()\n",
    "    \n",
    "    while offset < max:\n",
    "        url = f\"{laureates_url}?offset={offset}&limit={limit}\"\n",
    "        response = requests.get(url)\n",
    "        data = response.json()\n",
    "        max = data['meta']['count']\n",
    "        flattened = flatten(data['laureates'])\n",
    "        all_laureates = pd.concat([all_laureates, flattened], ignore_index=True)\n",
    "        offset += limit\n",
    "\n",
    "    all_laureates['id'] = all_laureates['id'].astype(int)\n",
    "    return all_laureates.sort_values('id')"
   ]
  },
  {
   "cell_type": "code",
   "execution_count": 8,
   "metadata": {},
   "outputs": [],
   "source": [
    "laureates_df = get_all_laureates(laureates_url)\n",
    "laureates_df.head()\n",
    "laureates_df.to_csv('sources/laureates.csv', index=False)"
   ]
  },
  {
   "cell_type": "code",
   "execution_count": null,
   "metadata": {},
   "outputs": [],
   "source": [
    "for column_name in laureates_df.columns:\n",
    "    print(column_name)"
   ]
  },
  {
   "cell_type": "markdown",
   "metadata": {},
   "source": [
    "### GENDER ANALYSIS"
   ]
  },
  {
   "cell_type": "code",
   "execution_count": 10,
   "metadata": {},
   "outputs": [],
   "source": [
    "gender_columns = {\n",
    "    'id': {'original_name': 'id', 'dtype': 'int64'},\n",
    "    'name': {'original_name': 'knownName.en', 'dtype': 'object'},\n",
    "    'gender': {'original_name': 'gender', 'dtype': 'category', 'categories': ['female', 'male']},\n",
    "    'award_year': {'original_name': 'nobelPrizes_1.awardYear', 'dtype': 'int64'},\n",
    "    'birth_country': {'original_name': 'birth.place.country.en', 'dtype': 'object'},\n",
    "    'field': {'original_name': 'nobelPrizes_1.category.en', 'dtype': 'category', 'categories': ['Physics', 'Chemistry', 'Physiology or Medicine', 'Economic Sciences']}\n",
    "}"
   ]
  },
  {
   "cell_type": "code",
   "execution_count": 11,
   "metadata": {},
   "outputs": [],
   "source": [
    "def get_selected_columns(column_dict: dict) -> list:\n",
    "\n",
    "    selected_columns = [infos['original_name'] for key, infos in column_dict.items()]\n",
    "    print('selected columns :\\n', selected_columns)\n",
    "    return selected_columns\n",
    "\n",
    "def get_new_names(column_dict: dict) -> dict:\n",
    "    \n",
    "    new_names = {infos['original_name']:new for new, infos in column_dict.items()}\n",
    "    print('new column names :\\n', new_names)\n",
    "    return new_names\n",
    "\n",
    "def filter_categories(df:pd.DataFrame, column_dict:dict) -> pd.DataFrame:\n",
    "    \n",
    "    for name, infos in column_dict.items():\n",
    "        if infos['dtype'] == 'category':\n",
    "            df = df[df[name].isin(infos['categories'])]\n",
    "    \n",
    "    return df\n",
    "\n",
    "def shape_dataframe(df:pd.DataFrame, dictionnary:dict) -> pd.DataFrame:\n",
    "\n",
    "    df = df[get_selected_columns(dictionnary)]\n",
    "    df = df.rename(columns = get_new_names(dictionnary))\n",
    "    df = filter_categories(df, dictionnary)\n",
    "\n",
    "    return df"
   ]
  },
  {
   "cell_type": "code",
   "execution_count": null,
   "metadata": {},
   "outputs": [],
   "source": [
    "gender_df = shape_dataframe(laureates_df, gender_columns)\n",
    "display(gender_df)\n",
    "gender_df['field'].value_counts()\n",
    "gender_df.dtypes"
   ]
  },
  {
   "cell_type": "code",
   "execution_count": null,
   "metadata": {},
   "outputs": [],
   "source": [
    "gender_counts = gender_df.groupby('gender').aggregate({'id': 'count'}).reset_index()\n",
    "gender_counts['proportion'] = gender_counts['id'] / gender_counts['id'].sum()\n",
    "gender_counts['proportion'] = gender_counts['proportion'].apply(lambda x: f\"{x:.0%}\")\n",
    "gender_counts.sort_values('proportion', ascending=False, inplace=True)\n",
    "gender_counts.index = range(1, len(gender_counts) + 1)\n",
    "display(gender_counts)"
   ]
  },
  {
   "cell_type": "code",
   "execution_count": null,
   "metadata": {},
   "outputs": [],
   "source": [
    "fig = px.bar(gender_counts, x='gender', y='id', text='proportion', title='Gender Distribution of Nobel Laureates')\n",
    "fig.show()"
   ]
  },
  {
   "cell_type": "code",
   "execution_count": null,
   "metadata": {},
   "outputs": [],
   "source": [
    "yearly_ratio = gender_df.groupby(['award_year','gender']).size().unstack(fill_value=0)\n",
    "display(yearly_ratio[['female','male']])\n",
    "yearly_ratio['total'] = yearly_ratio.sum(axis=1)\n",
    "yearly_ratio['female_ratio'] = yearly_ratio['female'] / yearly_ratio['total']\n",
    "yearly_ratio['male_ratio'] = yearly_ratio['male'] / yearly_ratio['total']\n",
    "display(yearly_ratio[['female_ratio','male_ratio']])"
   ]
  },
  {
   "cell_type": "code",
   "execution_count": null,
   "metadata": {},
   "outputs": [],
   "source": [
    "fig = px.line(yearly_ratio, x=yearly_ratio.index, y=['female_ratio', 'male_ratio'], title='Yearly Gender Distribution of Nobel Laureates')\n",
    "fig.show()"
   ]
  },
  {
   "cell_type": "code",
   "execution_count": null,
   "metadata": {},
   "outputs": [],
   "source": [
    "gender_cumulative = gender_df.groupby(['award_year', 'gender']).size().unstack(fill_value=0).cumsum()\n",
    "gender_cumulative['total'] = gender_cumulative.sum(axis=1)\n",
    "gender_cumulative['male_proportion'] = gender_cumulative['male'] / gender_cumulative['total']\n",
    "gender_cumulative['female_proportion'] = gender_cumulative['female'] / gender_cumulative['total']\n",
    "display(gender_cumulative[['male_proportion', 'female_proportion']])"
   ]
  },
  {
   "cell_type": "code",
   "execution_count": null,
   "metadata": {},
   "outputs": [],
   "source": [
    "fig = px.line(gender_cumulative, x=gender_cumulative.index, y=['female_proportion', 'male_proportion'], title='Cumulative Proportion of Nobel Laureates by gender')\n",
    "fig.show()"
   ]
  },
  {
   "cell_type": "code",
   "execution_count": null,
   "metadata": {},
   "outputs": [],
   "source": [
    "fig = px.line(gender_cumulative, x=gender_cumulative.index, y=['female', 'male'], title='Cumulative Gender Distribution of Nobel Laureates')\n",
    "fig.show()"
   ]
  },
  {
   "cell_type": "markdown",
   "metadata": {},
   "source": [
    "### AGE ANALYSIS"
   ]
  },
  {
   "cell_type": "code",
   "execution_count": null,
   "metadata": {},
   "outputs": [],
   "source": [
    "response = requests.get(laureates_url)\n",
    "nobel_data = response.json()\n",
    "laureate_infos = {}\n",
    "\n",
    "for laureate in nobel_data['laureates']:\n",
    "    \n",
    "    laureate_infos[laureate['id']]= {\n",
    "        'Name': laureate['knownName']['en'],\n",
    "        'Gender': laureate.get('gender',None),\n",
    "        'Birth_date': laureate['birth']['date'],\n",
    "        \n",
    "        'Birth_country': laureate['birth']['place']['country']['en'] if 'birth' in laureate and 'place' in laureate['birth'] and 'country' in \n",
    "        laureate['birth']['place'] else 'None',\n",
    "        \n",
    "        'Current_Country': laureate['birth']['place']['countryNow']['en'] if 'birth' in laureate and 'place' in laureate['birth'] and 'country' in \n",
    "        laureate['birth']['place'] else 'None',\n",
    "\n",
    "        'Continent': laureate['birth']['place']['continent']['en'] if 'birth' in laureate and 'place' in laureate['birth'] and 'continent' in \n",
    "        laureate['birth']['place'] else 'None',\n",
    "       \n",
    "        'award_year': laureate['nobelPrizes'][0]['awardYear'],\n",
    "        \n",
    "        'Prize_category': laureate['nobelPrizes'][0]['category']['en'],    \n",
    "        \n",
    "        'Prize_affiliations': laureate['nobelPrizes'][0]['affiliations'][0]['nameNow']['en'] if 'nobelPrizes' in laureate and 'affiliations'\n",
    "         in laureate['nobelPrizes'][0] and 'nameNow' in laureate['nobelPrizes'][0]['affiliations'][0] else 'None',\n",
    "        \n",
    "        'wikipedia_details': laureate['wikipedia']['english'] if 'wikipedia' in laureate and 'english' in laureate['wikipedia'] else 'None'}\n",
    "                                 \n",
    "df = pd.DataFrame.from_dict(laureate_infos,orient ='index')\n",
    "\n",
    "df['award_year'] = pd.to_numeric(df['award_year'],errors = 'coerce')\n",
    "df['Birth_date'] = pd.to_datetime(df['Birth_date'],errors = 'coerce')\n",
    "\n",
    "df['Award_age']=df['award_year']-df['Birth_date'].dt.year\n",
    "df['Award_age']=df['Award_age'].fillna(0).astype(int)\n",
    "\n",
    "print(df.columns)"
   ]
  }
 ],
 "metadata": {
  "kernelspec": {
   "display_name": "base",
   "language": "python",
   "name": "python3"
  },
  "language_info": {
   "codemirror_mode": {
    "name": "ipython",
    "version": 3
   },
   "file_extension": ".py",
   "mimetype": "text/x-python",
   "name": "python",
   "nbconvert_exporter": "python",
   "pygments_lexer": "ipython3",
   "version": "3.12.4"
  }
 },
 "nbformat": 4,
 "nbformat_minor": 2
}
