{
 "cells": [
  {
   "cell_type": "markdown",
   "metadata": {},
   "source": [
    "# API Quest\n",
    "## Oslo"
   ]
  },
  {
   "cell_type": "markdown",
   "metadata": {},
   "source": [
    "## HYPOTHESIS 1\n",
    "- Men are over represented in Nobel Prizes\n",
    "- Older people get more prizes\n",
    "- USA has the most nobels"
   ]
  },
  {
   "cell_type": "markdown",
   "metadata": {},
   "source": [
    "## Selected data sources\n",
    "\n",
    "1. Nobel API\n",
    "2. crossref.org\n",
    "3. https://archive.ics.uci.edu/ml/datasets/Gender+by+Name\n",
    "4. namsor.app"
   ]
  },
  {
   "cell_type": "code",
   "execution_count": null,
   "metadata": {},
   "outputs": [],
   "source": [
    "%load_ext autoreload\n",
    "%autoreload 2 "
   ]
  },
  {
   "cell_type": "code",
   "execution_count": 421,
   "metadata": {},
   "outputs": [],
   "source": [
    "#imports\n",
    "import os\n",
    "import requests\n",
    "import time\n",
    "import pandas as pd\n",
    "from dotenv import load_dotenv\n",
    "from datetime import datetime\n",
    "import plotly.express as px\n",
    "from wrangling import *\n",
    "\n",
    "import numpy as np\n",
    "import matplotlib.pyplot as plt"
   ]
  },
  {
   "cell_type": "code",
   "execution_count": 422,
   "metadata": {},
   "outputs": [],
   "source": [
    "#settings\n",
    "pd.set_option('display.max_colwidth', 900)\n",
    "pd.set_option('display.max_rows', 40)"
   ]
  },
  {
   "cell_type": "code",
   "execution_count": 423,
   "metadata": {},
   "outputs": [],
   "source": [
    "#load env\n",
    "load_dotenv()\n",
    "name_token = os.getenv('NAME_KEY')\n"
   ]
  },
  {
   "cell_type": "markdown",
   "metadata": {},
   "source": [
    "### MAIN DATA"
   ]
  },
  {
   "cell_type": "code",
   "execution_count": 424,
   "metadata": {},
   "outputs": [],
   "source": [
    "laureates_url = 'https://api.nobelprize.org/2.1/laureates'"
   ]
  },
  {
   "cell_type": "code",
   "execution_count": null,
   "metadata": {},
   "outputs": [],
   "source": [
    "laureates_df = load_or_fetch_laureates('sources/laureates.csv', laureates_url)\n",
    "display(laureates_df)"
   ]
  },
  {
   "cell_type": "markdown",
   "metadata": {},
   "source": [
    "### GENDER ANALYSIS"
   ]
  },
  {
   "cell_type": "code",
   "execution_count": 426,
   "metadata": {},
   "outputs": [],
   "source": [
    "#gender data schema\n",
    "gender_columns = get_json('schema')"
   ]
  },
  {
   "cell_type": "code",
   "execution_count": null,
   "metadata": {},
   "outputs": [],
   "source": [
    "#transforms df into usable form\n",
    "gender_df = shape_dataframe(laureates_df, gender_columns)\n",
    "display(gender_df)"
   ]
  },
  {
   "cell_type": "code",
   "execution_count": null,
   "metadata": {},
   "outputs": [],
   "source": [
    "#shape nobels by year\n",
    "nobels_by_year = gender_df.groupby(['year', 'gender']).size().unstack(fill_value=0)\n",
    "nobels_by_year['total'] = nobels_by_year.apply(sum, axis=1)\n",
    "display(nobels_by_year)"
   ]
  },
  {
   "cell_type": "code",
   "execution_count": null,
   "metadata": {},
   "outputs": [],
   "source": [
    "#display ratios\n",
    "nobels_by_year['Women Winners'] = nobels_by_year['female'] / nobels_by_year['total']\n",
    "nobels_by_year['Men Winners'] = nobels_by_year['male'] / nobels_by_year['total']\n",
    "display(nobels_by_year.head(3))"
   ]
  },
  {
   "cell_type": "code",
   "execution_count": null,
   "metadata": {},
   "outputs": [],
   "source": [
    "#select only ratios\n",
    "nobels_ratio_by_year = nobels_by_year[['Women Winners', 'Men Winners']]\n",
    "nobels_ratio_by_year.reset_index(inplace=True)\n",
    "display(nobels_ratio_by_year.head(3))"
   ]
  },
  {
   "cell_type": "code",
   "execution_count": 431,
   "metadata": {},
   "outputs": [],
   "source": [
    "custom_colors = {\n",
    "    'Men Nobel Win': '#1f77b4',        \n",
    "    'Men Scientists': '#87ceeb',            \n",
    "    'Women Nobel Win': '#cd8816',     \n",
    "    'Women Scientists': '#ffb333',          \n",
    "}"
   ]
  },
  {
   "cell_type": "code",
   "execution_count": null,
   "metadata": {},
   "outputs": [],
   "source": [
    "#cumulative count\n",
    "gender_cumulative = gender_df.groupby(['year', 'gender']).size().unstack(fill_value=0).cumsum()\n",
    "gender_cumulative = gender_cumulative.rename(columns={'male': 'Men Winners', 'female': 'Women Winners'})\n",
    "\n",
    "display(gender_cumulative.head(3))"
   ]
  },
  {
   "cell_type": "code",
   "execution_count": null,
   "metadata": {},
   "outputs": [],
   "source": [
    "fig = px.line(gender_cumulative, x=gender_cumulative.index, y=['Men Winners', 'Women Winners'], title='Cumulative Gender Distribution of Nobel Laureates', color_discrete_map=custom_colors)\n",
    "fig.update_layout(template='plotly_white')\n",
    "fig.show()"
   ]
  },
  {
   "cell_type": "markdown",
   "metadata": {},
   "source": [
    "### FIELD ANALYSIS  "
   ]
  },
  {
   "cell_type": "code",
   "execution_count": null,
   "metadata": {},
   "outputs": [],
   "source": [
    "#get the authors of random papers\n",
    "authors_names_df = get_papers_authors(gender_columns, 1901, 2023, 'initial')\n",
    "display(authors_names_df)"
   ]
  },
  {
   "cell_type": "code",
   "execution_count": null,
   "metadata": {},
   "outputs": [],
   "source": [
    "#genderize the names\n",
    "fields_df = genderize_names(authors_names_df, name_token)\n",
    "display(fields_df.head(3))"
   ]
  },
  {
   "cell_type": "code",
   "execution_count": null,
   "metadata": {},
   "outputs": [],
   "source": [
    "# count of males and females by year\n",
    "gender_scientists = fields_df.groupby(['year', 'gender']).size().unstack(fill_value=0).reset_index()\n",
    "gender_scientists['total'] = gender_scientists['female'] + gender_scientists['male']\n",
    "display(gender_scientists.head(3))"
   ]
  },
  {
   "cell_type": "code",
   "execution_count": null,
   "metadata": {},
   "outputs": [],
   "source": [
    "#add ratios\n",
    "gender_scientists['Women Scientists'] = gender_scientists['female'] / gender_scientists['total']\n",
    "gender_scientists['Men Scientists'] = gender_scientists['male'] / gender_scientists['total']\n",
    "display(gender_scientists)"
   ]
  },
  {
   "cell_type": "code",
   "execution_count": null,
   "metadata": {},
   "outputs": [],
   "source": [
    "#select only ratios\n",
    "scientists_ratio_by_year = gender_scientists[['year', 'Women Scientists','Men Scientists']]\n",
    "display(scientists_ratio_by_year.head(3))"
   ]
  },
  {
   "cell_type": "markdown",
   "metadata": {},
   "source": [
    "### JOINT ANALYSIS"
   ]
  },
  {
   "cell_type": "code",
   "execution_count": null,
   "metadata": {},
   "outputs": [],
   "source": [
    "#merge the two raio datasets\n",
    "merged_df = pd.merge(nobels_ratio_by_year, scientists_ratio_by_year, on='year')\n",
    "display(merged_df)"
   ]
  },
  {
   "cell_type": "code",
   "execution_count": null,
   "metadata": {},
   "outputs": [],
   "source": [
    "# Create the line graph with markers\n",
    "fig = px.line(\n",
    "    merged_df,\n",
    "    x='year',\n",
    "    y=[\n",
    "        'Men Winners',\n",
    "        'Men Scientists', \n",
    "        'Women Winners', \n",
    "        'Women Scientists', \n",
    "        ],\n",
    "    title='Gender Ratios in Scientific Papers and Nobel Laureates Over Time',\n",
    "    color_discrete_map=custom_colors,\n",
    ")\n",
    "# Apply a theme\n",
    "fig.update_layout(template='plotly_white')\n",
    "# Update fonts\n",
    "\n",
    "fig.add_annotation(\n",
    "    x=2009,\n",
    "    y=merged_df.loc[merged_df['year'] == 2009, 'Women Winners'].values[0],\n",
    "    text=\"Rare over representation\",\n",
    "    showarrow=True,\n",
    "    arrowhead=1\n",
    ")\n",
    "fig.show()\n"
   ]
  },
  {
   "cell_type": "code",
   "execution_count": null,
   "metadata": {},
   "outputs": [],
   "source": [
    "# Calculate average ratios over time\n",
    "average_ratios_df = merged_df.mean().to_frame(name='Average').T\n",
    "average_ratios_df = average_ratios_df.drop(columns='year')\n",
    "display(average_ratios_df)\n",
    "\n",
    "# Create a bar chart for average ratios\n",
    "fig_avg = px.bar(\n",
    "    average_ratios_df.melt(var_name='Category', value_name='Average Ratio'),\n",
    "    x='Category',\n",
    "    y='Average Ratio',\n",
    "    title='Average Gender Ratios in Scientific Papers and Nobel Laureates',\n",
    "    color='Category',\n",
    "    color_discrete_map=custom_colors\n",
    ")\n",
    "fig_avg.update_layout(template='plotly_white')\n",
    "fig_avg.show()"
   ]
  },
  {
   "cell_type": "markdown",
   "metadata": {},
   "source": [
    "### AGE AND COUNTRY ANALYSIS"
   ]
  },
  {
   "cell_type": "code",
   "execution_count": null,
   "metadata": {},
   "outputs": [],
   "source": [
    "base_url = \"http://api.nobelprize.org/2.1/laureates\"\n",
    "limit = 50\n",
    "offset = 1\n",
    "total_laureates = 991\n",
    "all_laureates ={}\n",
    "\n",
    "while offset < total_laureates:\n",
    "    params = {\n",
    "        \"offset\": offset,\n",
    "        \"limit\": limit,\n",
    "        \"format\":\"json\"\n",
    "    }\n",
    "    \n",
    "    response = requests.get(base_url,params=params,timeout=20)\n",
    "    if response.status_code == 200:\n",
    "        data = response.json()\n",
    "    \n",
    "        for laureate in data['laureates']:\n",
    "            all_laureates[laureate['id']] = laureate\n",
    "            \n",
    "        offset = offset + limit\n",
    "    else:\n",
    "        print(f\"error:{response.status_code}\")\n",
    "        break\n",
    "print(f\"Till now we totally collect {len(all_laureates)} laureates for further analysis\")\n",
    "all_laureates\n",
    "\n",
    "def extract_data(laureate_data):\n",
    "    extracted_data = {}\n",
    "    try:\n",
    "        extracted_data['fullName'] = laureate_data.get('fullName', {}).get('en', None)  \n",
    "        extracted_data['gender'] = laureate_data.get('gender', None)  \n",
    "        extracted_data['birth_date'] = laureate_data.get('birth', {}).get('date', None)  \n",
    "        extracted_data['birth_country'] = laureate_data.get('birth', {}).get('place', {}).get('country', {}).get('en', None)  \n",
    "        extracted_data['country_now'] = laureate_data.get('birth', {}).get('place', {}).get('countryNow', {}).get('en', None)  \n",
    "        extracted_data['continent'] = laureate_data.get('birth', {}).get('place', {}).get('continent', {}).get('en', None)  \n",
    "        extracted_data['nobel_category'] = laureate_data.get('nobelPrizes', [{}])[0].get('category', {}).get('en', None)  \n",
    "        extracted_data['awardYear'] = laureate_data.get('nobelPrizes', [{}])[0].get('awardYear', None)  \n",
    "        extracted_data['dateAwarded'] = laureate_data.get('nobelPrizes', [{}])[0].get('dateAwarded', None)  \n",
    "    except (KeyError, IndexError, AttributeError):\n",
    "        pass\n",
    "    \n",
    "    return extracted_data\n",
    "\n",
    "# extract all laureates data\n",
    "def process_multiple_entries(all_laureates):\n",
    "    final_data = {}\n",
    "    for laureate_id, laureate_data in all_laureates.items():\n",
    "        final_data[laureate_id] = extract_data(laureate_data)  \n",
    "    return final_data\n",
    "\n",
    "dictionaries = all_laureates  \n",
    "final_dictionary = process_multiple_entries(dictionaries)\n",
    "\n",
    "df = pd.DataFrame.from_dict(final_dictionary, orient='index')\n",
    "\n",
    "def calculate_age_at_award(row):\n",
    "    try:\n",
    "        birth_date = pd.to_datetime(row['birth_date'], errors='coerce')  \n",
    "        date_awarded = pd.to_datetime(row['dateAwarded'], errors='coerce')  \n",
    "        \n",
    "        if pd.notnull(birth_date) and pd.notnull(date_awarded):\n",
    "            age_at_award = date_awarded.year - birth_date.year\n",
    "            if date_awarded < birth_date + pd.DateOffset(years=age_at_award):  # check if Award-date before or after birth date\n",
    "                age_at_award -= 1\n",
    "            return age_at_award\n",
    "        else:\n",
    "            return None  # deal with missing value\n",
    "    except:\n",
    "        return None  # deal with dis-normal \n",
    "\n",
    "# Calculate all laureates age when being awarded and insert as a new column:\n",
    "df['age_at_award'] = df.apply(calculate_age_at_award, axis=1).astype('Int64')\n",
    "\n",
    "## Data cleaning:\n",
    "  #remove totally 28 laureates rows which missing birth_date data or show invalid date format:\n",
    "df = df.dropna(subset=['birth_date'])\n",
    "for col in df[['birth_date','awardYear','dateAwarded']]:\n",
    "    invalid_dates =df[col].str.contains(r\"00-00\",na=False)\n",
    "    if invalid_dates.any():\n",
    "        df = df[~invalid_dates]\n",
    "    \n",
    "df['birth_date']=pd.to_datetime(df['birth_date'], errors='coerce')\n",
    "df['awardYear']=pd.to_datetime(df['awardYear'], errors='coerce')\n",
    "df['dateAwarded']=pd.to_datetime(df['dateAwarded'], errors='coerce')\n",
    "\n",
    "for col in df.columns:\n",
    "    print(f\" Column:{col}\")\n",
    "    print(df[col].apply(type).value_counts())\n",
    "    print(\"___________\")\n",
    "    \n",
    "print()\n",
    "\n",
    "## Visualize all hypothesis/insight :\n",
    "\n",
    "# hypothesis 1:\n",
    "print(f\"Below show total age group statistic for all NobelPrize laureates:\")\n",
    "bins = [17,29,39,49,59,69,79,100]\n",
    "labels =['17-29','30-39','40-49','50-59','60-69','70-79','80-100']\n",
    "df['age_group'] = pd.cut(df['age_at_award'],bins=bins,labels=labels,right=True)\n",
    "age_group_counts = df['age_group'].value_counts().sort_index()\n",
    "age_group_counts.plot(kind='bar', color='skyblue')\n",
    "\n",
    "plt.xlabel('Age_Group')\n",
    "plt.ylabel('laureate qty')\n",
    "plt.title('Laureates statistic per age group')\n",
    "plt.xticks(rotation=0)\n",
    "\n",
    "for index,value in enumerate(age_group_counts):\n",
    "    plt.text(index, value, str(value), ha='center', va='bottom')\n",
    "plt.tight_layout()\n",
    "plt.show()\n",
    "print(\"_______________________________________________________________________\")\n",
    "\n",
    "# hypothesis 2:\n",
    "print(f\"Below show NobelPrize laureates statistic by countries:\")\n",
    "country_counts = df['birth_country'].value_counts().head(20)\n",
    "country_counts.plot(kind='bar', color='orange')\n",
    "\n",
    "plt.xlabel('Country')\n",
    "plt.ylabel('laureate qty')\n",
    "plt.title('Laureates statistic by top 20 country')\n",
    "plt.xticks(rotation=45,ha='right')\n",
    "\n",
    "for index,value in enumerate(country_counts):\n",
    "    plt.text(index, value, str(value), ha='center', va='bottom')\n",
    "plt.tight_layout()\n",
    "plt.show()\n",
    "\n",
    "\n",
    "    "
   ]
  }
 ],
 "metadata": {
  "kernelspec": {
   "display_name": "base",
   "language": "python",
   "name": "python3"
  },
  "language_info": {
   "codemirror_mode": {
    "name": "ipython",
    "version": 3
   },
   "file_extension": ".py",
   "mimetype": "text/x-python",
   "name": "python",
   "nbconvert_exporter": "python",
   "pygments_lexer": "ipython3",
   "version": "3.12.4"
  }
 },
 "nbformat": 4,
 "nbformat_minor": 2
}
