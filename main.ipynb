{
 "cells": [
  {
   "cell_type": "markdown",
   "metadata": {},
   "source": [
    "# API Quest\n",
    "## Oslo"
   ]
  },
  {
   "cell_type": "markdown",
   "metadata": {},
   "source": [
    "# HYPOTHESIS\n",
    "- Rich countries have more Nobel Prizes\n",
    "    - Nobel prize winners immigrate towards rich countries\n",
    "    - Nobel prize winners immigrate towards stable countries\n",
    "- Countries of birth / early education have more impact than countries of higher education\n",
    "- Nobel Prizes Laureates are getting younger\n",
    "- Nobel Prizes are awarded more to international teams than before\n",
    "\n",
    "- Gender Differences: Is there a significant difference in the gender ratio among Nobel Prize winners? Has this changed over time?\n",
    "- Geographic Distribution: In which countries or regions are Nobel Prize winners predominantly located? Has this distribution changed over time?\n",
    "- Age of Winners: What is the age distribution of Nobel Prize winners? Are there any noticeable trends in age?\n",
    "- Publications: Are there specific journals where Nobel Prize winners’ research is commonly published? How influential are these journals?"
   ]
  },
  {
   "cell_type": "markdown",
   "metadata": {},
   "source": [
    "## HYPOTHESIS 1\n",
    "- Men are over represented in Nobel Prizes"
   ]
  },
  {
   "cell_type": "markdown",
   "metadata": {},
   "source": [
    "## Selected data sources\n",
    "\n",
    "1. Nobel API\n",
    "2. crossref.org\n",
    "3. https://archive.ics.uci.edu/ml/datasets/Gender+by+Name\n",
    "4. namsor.app"
   ]
  },
  {
   "cell_type": "code",
   "execution_count": 131,
   "metadata": {},
   "outputs": [],
   "source": [
    "#QUESTIONS\n",
    "#caching\n",
    "#error handling / checkpoints?\n",
    "#nested jsons?\n",
    "#what if we don't know the possible value?\n",
    "#FileNotFoundError as check for file existence?"
   ]
  },
  {
   "cell_type": "code",
   "execution_count": 132,
   "metadata": {},
   "outputs": [],
   "source": [
    "#TODO fix given names function to accept ending years\n",
    "#TODO compare bar charts of nobel vs fields\n",
    "#TODO compare evolution of fields\n",
    "#TODO PREZ dropped analysis by lack of data\n"
   ]
  },
  {
   "cell_type": "code",
   "execution_count": 133,
   "metadata": {},
   "outputs": [
    {
     "name": "stdout",
     "output_type": "stream",
     "text": [
      "The autoreload extension is already loaded. To reload it, use:\n",
      "  %reload_ext autoreload\n"
     ]
    }
   ],
   "source": [
    "%load_ext autoreload\n",
    "%autoreload 2 "
   ]
  },
  {
   "cell_type": "code",
   "execution_count": 134,
   "metadata": {},
   "outputs": [],
   "source": [
    "#imports\n",
    "import os\n",
    "import requests\n",
    "import time\n",
    "import pandas as pd\n",
    "from dotenv import load_dotenv\n",
    "from datetime import datetime\n",
    "import plotly.express as px\n",
    "from wrangling import *"
   ]
  },
  {
   "cell_type": "code",
   "execution_count": 135,
   "metadata": {},
   "outputs": [],
   "source": [
    "#settings\n",
    "pd.set_option('display.max_colwidth', 900)\n",
    "pd.set_option('display.max_rows', 40)"
   ]
  },
  {
   "cell_type": "code",
   "execution_count": 136,
   "metadata": {},
   "outputs": [],
   "source": [
    "#load env\n",
    "load_dotenv()\n",
    "name_token = os.getenv('NAME_KEY')\n"
   ]
  },
  {
   "cell_type": "markdown",
   "metadata": {},
   "source": [
    "# Main data"
   ]
  },
  {
   "cell_type": "code",
   "execution_count": 137,
   "metadata": {},
   "outputs": [],
   "source": [
    "laureates_url = 'https://api.nobelprize.org/2.1/laureates'"
   ]
  },
  {
   "cell_type": "code",
   "execution_count": 138,
   "metadata": {},
   "outputs": [
    {
     "name": "stdout",
     "output_type": "stream",
     "text": [
      "Loading cached laureates data\n"
     ]
    },
    {
     "data": {
      "text/html": [
       "<div>\n",
       "<style scoped>\n",
       "    .dataframe tbody tr th:only-of-type {\n",
       "        vertical-align: middle;\n",
       "    }\n",
       "\n",
       "    .dataframe tbody tr th {\n",
       "        vertical-align: top;\n",
       "    }\n",
       "\n",
       "    .dataframe thead th {\n",
       "        text-align: right;\n",
       "    }\n",
       "</style>\n",
       "<table border=\"1\" class=\"dataframe\">\n",
       "  <thead>\n",
       "    <tr style=\"text-align: right;\">\n",
       "      <th></th>\n",
       "      <th>id</th>\n",
       "      <th>fileName</th>\n",
       "      <th>gender</th>\n",
       "      <th>sameAs</th>\n",
       "      <th>knownName.en</th>\n",
       "      <th>knownName.se</th>\n",
       "      <th>givenName.en</th>\n",
       "      <th>givenName.se</th>\n",
       "      <th>familyName.en</th>\n",
       "      <th>familyName.se</th>\n",
       "      <th>...</th>\n",
       "      <th>nobelPrizes_1.affiliations_4.countryNow.en</th>\n",
       "      <th>nobelPrizes_1.affiliations_4.countryNow.no</th>\n",
       "      <th>nobelPrizes_1.affiliations_4.countryNow.se</th>\n",
       "      <th>nobelPrizes_1.affiliations_4.countryNow.sameAs</th>\n",
       "      <th>nobelPrizes_1.affiliations_4.countryNow.latitude</th>\n",
       "      <th>nobelPrizes_1.affiliations_4.countryNow.longitude</th>\n",
       "      <th>nobelPrizes_1.affiliations_4.continent.en</th>\n",
       "      <th>nobelPrizes_1.affiliations_4.locationString.en</th>\n",
       "      <th>nobelPrizes_1.affiliations_4.locationString.no</th>\n",
       "      <th>nobelPrizes_1.affiliations_4.locationString.se</th>\n",
       "    </tr>\n",
       "  </thead>\n",
       "  <tbody>\n",
       "    <tr>\n",
       "      <th>0</th>\n",
       "      <td>1</td>\n",
       "      <td>rontgen</td>\n",
       "      <td>male</td>\n",
       "      <td>['https://www.wikidata.org/wiki/Q35149', 'https://en.wikipedia.org/wiki/Wilhelm_Röntgen']</td>\n",
       "      <td>Wilhelm Conrad Röntgen</td>\n",
       "      <td>Wilhelm Conrad Röntgen</td>\n",
       "      <td>Wilhelm Conrad</td>\n",
       "      <td>Wilhelm Conrad</td>\n",
       "      <td>Röntgen</td>\n",
       "      <td>Röntgen</td>\n",
       "      <td>...</td>\n",
       "      <td>NaN</td>\n",
       "      <td>NaN</td>\n",
       "      <td>NaN</td>\n",
       "      <td>NaN</td>\n",
       "      <td>NaN</td>\n",
       "      <td>NaN</td>\n",
       "      <td>NaN</td>\n",
       "      <td>NaN</td>\n",
       "      <td>NaN</td>\n",
       "      <td>NaN</td>\n",
       "    </tr>\n",
       "    <tr>\n",
       "      <th>1</th>\n",
       "      <td>2</td>\n",
       "      <td>lorentz</td>\n",
       "      <td>male</td>\n",
       "      <td>['https://www.wikidata.org/wiki/Q41688', 'https://en.wikipedia.org/wiki/Hendrik_Lorentz']</td>\n",
       "      <td>Hendrik A. Lorentz</td>\n",
       "      <td>Hendrik A. Lorentz</td>\n",
       "      <td>Hendrik A.</td>\n",
       "      <td>Hendrik A.</td>\n",
       "      <td>Lorentz</td>\n",
       "      <td>Lorentz</td>\n",
       "      <td>...</td>\n",
       "      <td>NaN</td>\n",
       "      <td>NaN</td>\n",
       "      <td>NaN</td>\n",
       "      <td>NaN</td>\n",
       "      <td>NaN</td>\n",
       "      <td>NaN</td>\n",
       "      <td>NaN</td>\n",
       "      <td>NaN</td>\n",
       "      <td>NaN</td>\n",
       "      <td>NaN</td>\n",
       "    </tr>\n",
       "    <tr>\n",
       "      <th>2</th>\n",
       "      <td>3</td>\n",
       "      <td>zeeman</td>\n",
       "      <td>male</td>\n",
       "      <td>['https://www.wikidata.org/wiki/Q79000', 'https://en.wikipedia.org/wiki/Pieter_Zeeman']</td>\n",
       "      <td>Pieter Zeeman</td>\n",
       "      <td>Pieter Zeeman</td>\n",
       "      <td>Pieter</td>\n",
       "      <td>Pieter</td>\n",
       "      <td>Zeeman</td>\n",
       "      <td>Zeeman</td>\n",
       "      <td>...</td>\n",
       "      <td>NaN</td>\n",
       "      <td>NaN</td>\n",
       "      <td>NaN</td>\n",
       "      <td>NaN</td>\n",
       "      <td>NaN</td>\n",
       "      <td>NaN</td>\n",
       "      <td>NaN</td>\n",
       "      <td>NaN</td>\n",
       "      <td>NaN</td>\n",
       "      <td>NaN</td>\n",
       "    </tr>\n",
       "    <tr>\n",
       "      <th>3</th>\n",
       "      <td>4</td>\n",
       "      <td>becquerel</td>\n",
       "      <td>male</td>\n",
       "      <td>['https://www.wikidata.org/wiki/Q41269', 'https://en.wikipedia.org/wiki/Henri_Becquerel']</td>\n",
       "      <td>Henri Becquerel</td>\n",
       "      <td>Henri Becquerel</td>\n",
       "      <td>Henri</td>\n",
       "      <td>Henri</td>\n",
       "      <td>Becquerel</td>\n",
       "      <td>Becquerel</td>\n",
       "      <td>...</td>\n",
       "      <td>NaN</td>\n",
       "      <td>NaN</td>\n",
       "      <td>NaN</td>\n",
       "      <td>NaN</td>\n",
       "      <td>NaN</td>\n",
       "      <td>NaN</td>\n",
       "      <td>NaN</td>\n",
       "      <td>NaN</td>\n",
       "      <td>NaN</td>\n",
       "      <td>NaN</td>\n",
       "    </tr>\n",
       "    <tr>\n",
       "      <th>4</th>\n",
       "      <td>5</td>\n",
       "      <td>pierre-curie</td>\n",
       "      <td>male</td>\n",
       "      <td>['https://www.wikidata.org/wiki/Q37463', 'https://en.wikipedia.org/wiki/Pierre_Curie']</td>\n",
       "      <td>Pierre Curie</td>\n",
       "      <td>Pierre Curie</td>\n",
       "      <td>Pierre</td>\n",
       "      <td>Pierre</td>\n",
       "      <td>Curie</td>\n",
       "      <td>Curie</td>\n",
       "      <td>...</td>\n",
       "      <td>NaN</td>\n",
       "      <td>NaN</td>\n",
       "      <td>NaN</td>\n",
       "      <td>NaN</td>\n",
       "      <td>NaN</td>\n",
       "      <td>NaN</td>\n",
       "      <td>NaN</td>\n",
       "      <td>NaN</td>\n",
       "      <td>NaN</td>\n",
       "      <td>NaN</td>\n",
       "    </tr>\n",
       "    <tr>\n",
       "      <th>...</th>\n",
       "      <td>...</td>\n",
       "      <td>...</td>\n",
       "      <td>...</td>\n",
       "      <td>...</td>\n",
       "      <td>...</td>\n",
       "      <td>...</td>\n",
       "      <td>...</td>\n",
       "      <td>...</td>\n",
       "      <td>...</td>\n",
       "      <td>...</td>\n",
       "      <td>...</td>\n",
       "      <td>...</td>\n",
       "      <td>...</td>\n",
       "      <td>...</td>\n",
       "      <td>...</td>\n",
       "      <td>...</td>\n",
       "      <td>...</td>\n",
       "      <td>...</td>\n",
       "      <td>...</td>\n",
       "      <td>...</td>\n",
       "      <td>...</td>\n",
       "    </tr>\n",
       "    <tr>\n",
       "      <th>987</th>\n",
       "      <td>1030</td>\n",
       "      <td>brus</td>\n",
       "      <td>male</td>\n",
       "      <td>['https://www.wikidata.org/wiki/Q194646', 'https://en.wikipedia.org/wiki/Louis_E._Brus']</td>\n",
       "      <td>Louis Brus</td>\n",
       "      <td>Louis Brus</td>\n",
       "      <td>Louis</td>\n",
       "      <td>Louis</td>\n",
       "      <td>Brus</td>\n",
       "      <td>Brus</td>\n",
       "      <td>...</td>\n",
       "      <td>NaN</td>\n",
       "      <td>NaN</td>\n",
       "      <td>NaN</td>\n",
       "      <td>NaN</td>\n",
       "      <td>NaN</td>\n",
       "      <td>NaN</td>\n",
       "      <td>NaN</td>\n",
       "      <td>NaN</td>\n",
       "      <td>NaN</td>\n",
       "      <td>NaN</td>\n",
       "    </tr>\n",
       "    <tr>\n",
       "      <th>988</th>\n",
       "      <td>1031</td>\n",
       "      <td>yekimov</td>\n",
       "      <td>male</td>\n",
       "      <td>['https://www.wikidata.org/wiki/Q1547368', 'https://en.wikipedia.org/wiki/Alexei_Ekimov']</td>\n",
       "      <td>Aleksey Yekimov</td>\n",
       "      <td>Aleksej Jekimov</td>\n",
       "      <td>Aleksey</td>\n",
       "      <td>Aleksej</td>\n",
       "      <td>Yekimov</td>\n",
       "      <td>Jekimov</td>\n",
       "      <td>...</td>\n",
       "      <td>NaN</td>\n",
       "      <td>NaN</td>\n",
       "      <td>NaN</td>\n",
       "      <td>NaN</td>\n",
       "      <td>NaN</td>\n",
       "      <td>NaN</td>\n",
       "      <td>NaN</td>\n",
       "      <td>NaN</td>\n",
       "      <td>NaN</td>\n",
       "      <td>NaN</td>\n",
       "    </tr>\n",
       "    <tr>\n",
       "      <th>989</th>\n",
       "      <td>1032</td>\n",
       "      <td>fosse</td>\n",
       "      <td>male</td>\n",
       "      <td>['https://www.wikidata.org/wiki/Q443868', 'https://en.wikipedia.org/wiki/Jon_Fosse']</td>\n",
       "      <td>Jon Fosse</td>\n",
       "      <td>Jon Fosse</td>\n",
       "      <td>Jon</td>\n",
       "      <td>Jon</td>\n",
       "      <td>Fosse</td>\n",
       "      <td>Fosse</td>\n",
       "      <td>...</td>\n",
       "      <td>NaN</td>\n",
       "      <td>NaN</td>\n",
       "      <td>NaN</td>\n",
       "      <td>NaN</td>\n",
       "      <td>NaN</td>\n",
       "      <td>NaN</td>\n",
       "      <td>NaN</td>\n",
       "      <td>NaN</td>\n",
       "      <td>NaN</td>\n",
       "      <td>NaN</td>\n",
       "    </tr>\n",
       "    <tr>\n",
       "      <th>990</th>\n",
       "      <td>1033</td>\n",
       "      <td>mohammadi</td>\n",
       "      <td>female</td>\n",
       "      <td>['https://www.wikidata.org/wiki/Q4967771', 'https://en.wikipedia.org/wiki/Narges_Mohammadi']</td>\n",
       "      <td>Narges Mohammadi</td>\n",
       "      <td>Narges Mohammadi</td>\n",
       "      <td>Narges</td>\n",
       "      <td>Narges</td>\n",
       "      <td>Mohammadi</td>\n",
       "      <td>Mohammadi</td>\n",
       "      <td>...</td>\n",
       "      <td>NaN</td>\n",
       "      <td>NaN</td>\n",
       "      <td>NaN</td>\n",
       "      <td>NaN</td>\n",
       "      <td>NaN</td>\n",
       "      <td>NaN</td>\n",
       "      <td>NaN</td>\n",
       "      <td>NaN</td>\n",
       "      <td>NaN</td>\n",
       "      <td>NaN</td>\n",
       "    </tr>\n",
       "    <tr>\n",
       "      <th>991</th>\n",
       "      <td>1034</td>\n",
       "      <td>goldin</td>\n",
       "      <td>female</td>\n",
       "      <td>['https://www.wikidata.org/wiki/Q1097475', 'https://en.wikipedia.org/wiki/Claudia_Goldin']</td>\n",
       "      <td>Claudia Goldin</td>\n",
       "      <td>Claudia Goldin</td>\n",
       "      <td>Claudia</td>\n",
       "      <td>Claudia</td>\n",
       "      <td>Goldin</td>\n",
       "      <td>Goldin</td>\n",
       "      <td>...</td>\n",
       "      <td>NaN</td>\n",
       "      <td>NaN</td>\n",
       "      <td>NaN</td>\n",
       "      <td>NaN</td>\n",
       "      <td>NaN</td>\n",
       "      <td>NaN</td>\n",
       "      <td>NaN</td>\n",
       "      <td>NaN</td>\n",
       "      <td>NaN</td>\n",
       "      <td>NaN</td>\n",
       "    </tr>\n",
       "  </tbody>\n",
       "</table>\n",
       "<p>992 rows × 318 columns</p>\n",
       "</div>"
      ],
      "text/plain": [
       "       id      fileName  gender  \\\n",
       "0       1       rontgen    male   \n",
       "1       2       lorentz    male   \n",
       "2       3        zeeman    male   \n",
       "3       4     becquerel    male   \n",
       "4       5  pierre-curie    male   \n",
       "..    ...           ...     ...   \n",
       "987  1030          brus    male   \n",
       "988  1031       yekimov    male   \n",
       "989  1032         fosse    male   \n",
       "990  1033     mohammadi  female   \n",
       "991  1034        goldin  female   \n",
       "\n",
       "                                                                                           sameAs  \\\n",
       "0       ['https://www.wikidata.org/wiki/Q35149', 'https://en.wikipedia.org/wiki/Wilhelm_Röntgen']   \n",
       "1       ['https://www.wikidata.org/wiki/Q41688', 'https://en.wikipedia.org/wiki/Hendrik_Lorentz']   \n",
       "2         ['https://www.wikidata.org/wiki/Q79000', 'https://en.wikipedia.org/wiki/Pieter_Zeeman']   \n",
       "3       ['https://www.wikidata.org/wiki/Q41269', 'https://en.wikipedia.org/wiki/Henri_Becquerel']   \n",
       "4          ['https://www.wikidata.org/wiki/Q37463', 'https://en.wikipedia.org/wiki/Pierre_Curie']   \n",
       "..                                                                                            ...   \n",
       "987      ['https://www.wikidata.org/wiki/Q194646', 'https://en.wikipedia.org/wiki/Louis_E._Brus']   \n",
       "988     ['https://www.wikidata.org/wiki/Q1547368', 'https://en.wikipedia.org/wiki/Alexei_Ekimov']   \n",
       "989          ['https://www.wikidata.org/wiki/Q443868', 'https://en.wikipedia.org/wiki/Jon_Fosse']   \n",
       "990  ['https://www.wikidata.org/wiki/Q4967771', 'https://en.wikipedia.org/wiki/Narges_Mohammadi']   \n",
       "991    ['https://www.wikidata.org/wiki/Q1097475', 'https://en.wikipedia.org/wiki/Claudia_Goldin']   \n",
       "\n",
       "               knownName.en            knownName.se    givenName.en  \\\n",
       "0    Wilhelm Conrad Röntgen  Wilhelm Conrad Röntgen  Wilhelm Conrad   \n",
       "1        Hendrik A. Lorentz      Hendrik A. Lorentz      Hendrik A.   \n",
       "2             Pieter Zeeman           Pieter Zeeman          Pieter   \n",
       "3           Henri Becquerel         Henri Becquerel           Henri   \n",
       "4              Pierre Curie            Pierre Curie          Pierre   \n",
       "..                      ...                     ...             ...   \n",
       "987              Louis Brus              Louis Brus           Louis   \n",
       "988        Aleksey Yekimov          Aleksej Jekimov         Aleksey   \n",
       "989               Jon Fosse               Jon Fosse             Jon   \n",
       "990        Narges Mohammadi        Narges Mohammadi          Narges   \n",
       "991          Claudia Goldin          Claudia Goldin         Claudia   \n",
       "\n",
       "       givenName.se familyName.en familyName.se  ...  \\\n",
       "0    Wilhelm Conrad       Röntgen       Röntgen  ...   \n",
       "1        Hendrik A.       Lorentz       Lorentz  ...   \n",
       "2            Pieter        Zeeman        Zeeman  ...   \n",
       "3             Henri     Becquerel     Becquerel  ...   \n",
       "4            Pierre         Curie         Curie  ...   \n",
       "..              ...           ...           ...  ...   \n",
       "987           Louis          Brus          Brus  ...   \n",
       "988         Aleksej       Yekimov       Jekimov  ...   \n",
       "989             Jon         Fosse         Fosse  ...   \n",
       "990          Narges     Mohammadi     Mohammadi  ...   \n",
       "991         Claudia        Goldin        Goldin  ...   \n",
       "\n",
       "    nobelPrizes_1.affiliations_4.countryNow.en  \\\n",
       "0                                          NaN   \n",
       "1                                          NaN   \n",
       "2                                          NaN   \n",
       "3                                          NaN   \n",
       "4                                          NaN   \n",
       "..                                         ...   \n",
       "987                                        NaN   \n",
       "988                                        NaN   \n",
       "989                                        NaN   \n",
       "990                                        NaN   \n",
       "991                                        NaN   \n",
       "\n",
       "    nobelPrizes_1.affiliations_4.countryNow.no  \\\n",
       "0                                          NaN   \n",
       "1                                          NaN   \n",
       "2                                          NaN   \n",
       "3                                          NaN   \n",
       "4                                          NaN   \n",
       "..                                         ...   \n",
       "987                                        NaN   \n",
       "988                                        NaN   \n",
       "989                                        NaN   \n",
       "990                                        NaN   \n",
       "991                                        NaN   \n",
       "\n",
       "    nobelPrizes_1.affiliations_4.countryNow.se  \\\n",
       "0                                          NaN   \n",
       "1                                          NaN   \n",
       "2                                          NaN   \n",
       "3                                          NaN   \n",
       "4                                          NaN   \n",
       "..                                         ...   \n",
       "987                                        NaN   \n",
       "988                                        NaN   \n",
       "989                                        NaN   \n",
       "990                                        NaN   \n",
       "991                                        NaN   \n",
       "\n",
       "    nobelPrizes_1.affiliations_4.countryNow.sameAs  \\\n",
       "0                                              NaN   \n",
       "1                                              NaN   \n",
       "2                                              NaN   \n",
       "3                                              NaN   \n",
       "4                                              NaN   \n",
       "..                                             ...   \n",
       "987                                            NaN   \n",
       "988                                            NaN   \n",
       "989                                            NaN   \n",
       "990                                            NaN   \n",
       "991                                            NaN   \n",
       "\n",
       "    nobelPrizes_1.affiliations_4.countryNow.latitude  \\\n",
       "0                                                NaN   \n",
       "1                                                NaN   \n",
       "2                                                NaN   \n",
       "3                                                NaN   \n",
       "4                                                NaN   \n",
       "..                                               ...   \n",
       "987                                              NaN   \n",
       "988                                              NaN   \n",
       "989                                              NaN   \n",
       "990                                              NaN   \n",
       "991                                              NaN   \n",
       "\n",
       "    nobelPrizes_1.affiliations_4.countryNow.longitude  \\\n",
       "0                                                 NaN   \n",
       "1                                                 NaN   \n",
       "2                                                 NaN   \n",
       "3                                                 NaN   \n",
       "4                                                 NaN   \n",
       "..                                                ...   \n",
       "987                                               NaN   \n",
       "988                                               NaN   \n",
       "989                                               NaN   \n",
       "990                                               NaN   \n",
       "991                                               NaN   \n",
       "\n",
       "    nobelPrizes_1.affiliations_4.continent.en  \\\n",
       "0                                         NaN   \n",
       "1                                         NaN   \n",
       "2                                         NaN   \n",
       "3                                         NaN   \n",
       "4                                         NaN   \n",
       "..                                        ...   \n",
       "987                                       NaN   \n",
       "988                                       NaN   \n",
       "989                                       NaN   \n",
       "990                                       NaN   \n",
       "991                                       NaN   \n",
       "\n",
       "    nobelPrizes_1.affiliations_4.locationString.en  \\\n",
       "0                                              NaN   \n",
       "1                                              NaN   \n",
       "2                                              NaN   \n",
       "3                                              NaN   \n",
       "4                                              NaN   \n",
       "..                                             ...   \n",
       "987                                            NaN   \n",
       "988                                            NaN   \n",
       "989                                            NaN   \n",
       "990                                            NaN   \n",
       "991                                            NaN   \n",
       "\n",
       "    nobelPrizes_1.affiliations_4.locationString.no  \\\n",
       "0                                              NaN   \n",
       "1                                              NaN   \n",
       "2                                              NaN   \n",
       "3                                              NaN   \n",
       "4                                              NaN   \n",
       "..                                             ...   \n",
       "987                                            NaN   \n",
       "988                                            NaN   \n",
       "989                                            NaN   \n",
       "990                                            NaN   \n",
       "991                                            NaN   \n",
       "\n",
       "    nobelPrizes_1.affiliations_4.locationString.se  \n",
       "0                                              NaN  \n",
       "1                                              NaN  \n",
       "2                                              NaN  \n",
       "3                                              NaN  \n",
       "4                                              NaN  \n",
       "..                                             ...  \n",
       "987                                            NaN  \n",
       "988                                            NaN  \n",
       "989                                            NaN  \n",
       "990                                            NaN  \n",
       "991                                            NaN  \n",
       "\n",
       "[992 rows x 318 columns]"
      ]
     },
     "metadata": {},
     "output_type": "display_data"
    }
   ],
   "source": [
    "laureates_df = load_or_fetch_laureates('sources/laureates.csv', laureates_url)\n",
    "display(laureates_df)"
   ]
  },
  {
   "cell_type": "markdown",
   "metadata": {},
   "source": [
    "### GENDER ANALYSIS"
   ]
  },
  {
   "cell_type": "code",
   "execution_count": 139,
   "metadata": {},
   "outputs": [],
   "source": [
    "#gender data schema\n",
    "gender_columns = get_json('schema')"
   ]
  },
  {
   "cell_type": "code",
   "execution_count": 140,
   "metadata": {},
   "outputs": [
    {
     "data": {
      "text/html": [
       "<div>\n",
       "<style scoped>\n",
       "    .dataframe tbody tr th:only-of-type {\n",
       "        vertical-align: middle;\n",
       "    }\n",
       "\n",
       "    .dataframe tbody tr th {\n",
       "        vertical-align: top;\n",
       "    }\n",
       "\n",
       "    .dataframe thead th {\n",
       "        text-align: right;\n",
       "    }\n",
       "</style>\n",
       "<table border=\"1\" class=\"dataframe\">\n",
       "  <thead>\n",
       "    <tr style=\"text-align: right;\">\n",
       "      <th></th>\n",
       "      <th>id</th>\n",
       "      <th>name</th>\n",
       "      <th>gender</th>\n",
       "      <th>award_year</th>\n",
       "      <th>field</th>\n",
       "    </tr>\n",
       "  </thead>\n",
       "  <tbody>\n",
       "    <tr>\n",
       "      <th>0</th>\n",
       "      <td>1</td>\n",
       "      <td>Wilhelm Conrad Röntgen</td>\n",
       "      <td>male</td>\n",
       "      <td>1901</td>\n",
       "      <td>Physics</td>\n",
       "    </tr>\n",
       "    <tr>\n",
       "      <th>1</th>\n",
       "      <td>2</td>\n",
       "      <td>Hendrik A. Lorentz</td>\n",
       "      <td>male</td>\n",
       "      <td>1902</td>\n",
       "      <td>Physics</td>\n",
       "    </tr>\n",
       "    <tr>\n",
       "      <th>2</th>\n",
       "      <td>3</td>\n",
       "      <td>Pieter Zeeman</td>\n",
       "      <td>male</td>\n",
       "      <td>1902</td>\n",
       "      <td>Physics</td>\n",
       "    </tr>\n",
       "    <tr>\n",
       "      <th>3</th>\n",
       "      <td>4</td>\n",
       "      <td>Henri Becquerel</td>\n",
       "      <td>male</td>\n",
       "      <td>1903</td>\n",
       "      <td>Physics</td>\n",
       "    </tr>\n",
       "    <tr>\n",
       "      <th>4</th>\n",
       "      <td>5</td>\n",
       "      <td>Pierre Curie</td>\n",
       "      <td>male</td>\n",
       "      <td>1903</td>\n",
       "      <td>Physics</td>\n",
       "    </tr>\n",
       "    <tr>\n",
       "      <th>...</th>\n",
       "      <td>...</td>\n",
       "      <td>...</td>\n",
       "      <td>...</td>\n",
       "      <td>...</td>\n",
       "      <td>...</td>\n",
       "    </tr>\n",
       "    <tr>\n",
       "      <th>985</th>\n",
       "      <td>1028</td>\n",
       "      <td>Anne L’Huillier</td>\n",
       "      <td>female</td>\n",
       "      <td>2023</td>\n",
       "      <td>Physics</td>\n",
       "    </tr>\n",
       "    <tr>\n",
       "      <th>986</th>\n",
       "      <td>1029</td>\n",
       "      <td>Moungi Bawendi</td>\n",
       "      <td>male</td>\n",
       "      <td>2023</td>\n",
       "      <td>Chemistry</td>\n",
       "    </tr>\n",
       "    <tr>\n",
       "      <th>987</th>\n",
       "      <td>1030</td>\n",
       "      <td>Louis Brus</td>\n",
       "      <td>male</td>\n",
       "      <td>2023</td>\n",
       "      <td>Chemistry</td>\n",
       "    </tr>\n",
       "    <tr>\n",
       "      <th>988</th>\n",
       "      <td>1031</td>\n",
       "      <td>Aleksey Yekimov</td>\n",
       "      <td>male</td>\n",
       "      <td>2023</td>\n",
       "      <td>Chemistry</td>\n",
       "    </tr>\n",
       "    <tr>\n",
       "      <th>991</th>\n",
       "      <td>1034</td>\n",
       "      <td>Claudia Goldin</td>\n",
       "      <td>female</td>\n",
       "      <td>2023</td>\n",
       "      <td>Economic Sciences</td>\n",
       "    </tr>\n",
       "  </tbody>\n",
       "</table>\n",
       "<p>735 rows × 5 columns</p>\n",
       "</div>"
      ],
      "text/plain": [
       "       id                    name  gender  award_year              field\n",
       "0       1  Wilhelm Conrad Röntgen    male        1901            Physics\n",
       "1       2      Hendrik A. Lorentz    male        1902            Physics\n",
       "2       3           Pieter Zeeman    male        1902            Physics\n",
       "3       4         Henri Becquerel    male        1903            Physics\n",
       "4       5            Pierre Curie    male        1903            Physics\n",
       "..    ...                     ...     ...         ...                ...\n",
       "985  1028         Anne L’Huillier  female        2023            Physics\n",
       "986  1029          Moungi Bawendi    male        2023          Chemistry\n",
       "987  1030              Louis Brus    male        2023          Chemistry\n",
       "988  1031        Aleksey Yekimov     male        2023          Chemistry\n",
       "991  1034          Claudia Goldin  female        2023  Economic Sciences\n",
       "\n",
       "[735 rows x 5 columns]"
      ]
     },
     "metadata": {},
     "output_type": "display_data"
    }
   ],
   "source": [
    "#transforms df into usable form\n",
    "gender_df = shape_dataframe(laureates_df, gender_columns)\n",
    "display(gender_df)"
   ]
  },
  {
   "cell_type": "code",
   "execution_count": 141,
   "metadata": {},
   "outputs": [
    {
     "data": {
      "text/html": [
       "<div>\n",
       "<style scoped>\n",
       "    .dataframe tbody tr th:only-of-type {\n",
       "        vertical-align: middle;\n",
       "    }\n",
       "\n",
       "    .dataframe tbody tr th {\n",
       "        vertical-align: top;\n",
       "    }\n",
       "\n",
       "    .dataframe thead th {\n",
       "        text-align: right;\n",
       "    }\n",
       "</style>\n",
       "<table border=\"1\" class=\"dataframe\">\n",
       "  <thead>\n",
       "    <tr style=\"text-align: right;\">\n",
       "      <th>gender</th>\n",
       "      <th>female</th>\n",
       "      <th>male</th>\n",
       "      <th>total</th>\n",
       "    </tr>\n",
       "    <tr>\n",
       "      <th>award_year</th>\n",
       "      <th></th>\n",
       "      <th></th>\n",
       "      <th></th>\n",
       "    </tr>\n",
       "  </thead>\n",
       "  <tbody>\n",
       "    <tr>\n",
       "      <th>1901</th>\n",
       "      <td>0</td>\n",
       "      <td>3</td>\n",
       "      <td>3</td>\n",
       "    </tr>\n",
       "    <tr>\n",
       "      <th>1902</th>\n",
       "      <td>0</td>\n",
       "      <td>4</td>\n",
       "      <td>4</td>\n",
       "    </tr>\n",
       "    <tr>\n",
       "      <th>1903</th>\n",
       "      <td>1</td>\n",
       "      <td>4</td>\n",
       "      <td>5</td>\n",
       "    </tr>\n",
       "    <tr>\n",
       "      <th>1904</th>\n",
       "      <td>0</td>\n",
       "      <td>3</td>\n",
       "      <td>3</td>\n",
       "    </tr>\n",
       "    <tr>\n",
       "      <th>1905</th>\n",
       "      <td>0</td>\n",
       "      <td>3</td>\n",
       "      <td>3</td>\n",
       "    </tr>\n",
       "    <tr>\n",
       "      <th>...</th>\n",
       "      <td>...</td>\n",
       "      <td>...</td>\n",
       "      <td>...</td>\n",
       "    </tr>\n",
       "    <tr>\n",
       "      <th>2019</th>\n",
       "      <td>1</td>\n",
       "      <td>11</td>\n",
       "      <td>12</td>\n",
       "    </tr>\n",
       "    <tr>\n",
       "      <th>2020</th>\n",
       "      <td>3</td>\n",
       "      <td>7</td>\n",
       "      <td>10</td>\n",
       "    </tr>\n",
       "    <tr>\n",
       "      <th>2021</th>\n",
       "      <td>0</td>\n",
       "      <td>10</td>\n",
       "      <td>10</td>\n",
       "    </tr>\n",
       "    <tr>\n",
       "      <th>2022</th>\n",
       "      <td>1</td>\n",
       "      <td>8</td>\n",
       "      <td>9</td>\n",
       "    </tr>\n",
       "    <tr>\n",
       "      <th>2023</th>\n",
       "      <td>3</td>\n",
       "      <td>6</td>\n",
       "      <td>9</td>\n",
       "    </tr>\n",
       "  </tbody>\n",
       "</table>\n",
       "<p>119 rows × 3 columns</p>\n",
       "</div>"
      ],
      "text/plain": [
       "gender      female  male  total\n",
       "award_year                     \n",
       "1901             0     3      3\n",
       "1902             0     4      4\n",
       "1903             1     4      5\n",
       "1904             0     3      3\n",
       "1905             0     3      3\n",
       "...            ...   ...    ...\n",
       "2019             1    11     12\n",
       "2020             3     7     10\n",
       "2021             0    10     10\n",
       "2022             1     8      9\n",
       "2023             3     6      9\n",
       "\n",
       "[119 rows x 3 columns]"
      ]
     },
     "metadata": {},
     "output_type": "display_data"
    }
   ],
   "source": [
    "#shape nobels by year\n",
    "nobels_by_year = gender_df.groupby(['award_year', 'gender']).size().unstack(fill_value=0)\n",
    "nobels_by_year['total'] = nobels_by_year.apply(sum, axis=1)\n",
    "display(nobels_by_year)"
   ]
  },
  {
   "cell_type": "code",
   "execution_count": 142,
   "metadata": {},
   "outputs": [
    {
     "data": {
      "text/html": [
       "<div>\n",
       "<style scoped>\n",
       "    .dataframe tbody tr th:only-of-type {\n",
       "        vertical-align: middle;\n",
       "    }\n",
       "\n",
       "    .dataframe tbody tr th {\n",
       "        vertical-align: top;\n",
       "    }\n",
       "\n",
       "    .dataframe thead th {\n",
       "        text-align: right;\n",
       "    }\n",
       "</style>\n",
       "<table border=\"1\" class=\"dataframe\">\n",
       "  <thead>\n",
       "    <tr style=\"text-align: right;\">\n",
       "      <th>gender</th>\n",
       "      <th>female</th>\n",
       "      <th>male</th>\n",
       "      <th>total</th>\n",
       "      <th>female_ratio_nobels</th>\n",
       "      <th>male_ratio_nobels</th>\n",
       "    </tr>\n",
       "    <tr>\n",
       "      <th>award_year</th>\n",
       "      <th></th>\n",
       "      <th></th>\n",
       "      <th></th>\n",
       "      <th></th>\n",
       "      <th></th>\n",
       "    </tr>\n",
       "  </thead>\n",
       "  <tbody>\n",
       "    <tr>\n",
       "      <th>1901</th>\n",
       "      <td>0</td>\n",
       "      <td>3</td>\n",
       "      <td>3</td>\n",
       "      <td>0.0</td>\n",
       "      <td>1.0</td>\n",
       "    </tr>\n",
       "    <tr>\n",
       "      <th>1902</th>\n",
       "      <td>0</td>\n",
       "      <td>4</td>\n",
       "      <td>4</td>\n",
       "      <td>0.0</td>\n",
       "      <td>1.0</td>\n",
       "    </tr>\n",
       "    <tr>\n",
       "      <th>1903</th>\n",
       "      <td>1</td>\n",
       "      <td>4</td>\n",
       "      <td>5</td>\n",
       "      <td>0.2</td>\n",
       "      <td>0.8</td>\n",
       "    </tr>\n",
       "  </tbody>\n",
       "</table>\n",
       "</div>"
      ],
      "text/plain": [
       "gender      female  male  total  female_ratio_nobels  male_ratio_nobels\n",
       "award_year                                                             \n",
       "1901             0     3      3                  0.0                1.0\n",
       "1902             0     4      4                  0.0                1.0\n",
       "1903             1     4      5                  0.2                0.8"
      ]
     },
     "metadata": {},
     "output_type": "display_data"
    }
   ],
   "source": [
    "#display ratios\n",
    "nobels_by_year['female_ratio_nobels'] = nobels_by_year['female'] / nobels_by_year['total']\n",
    "nobels_by_year['male_ratio_nobels'] = nobels_by_year['male'] / nobels_by_year['total']\n",
    "display(nobels_by_year.head(3))"
   ]
  },
  {
   "cell_type": "code",
   "execution_count": 143,
   "metadata": {},
   "outputs": [
    {
     "data": {
      "text/html": [
       "<div>\n",
       "<style scoped>\n",
       "    .dataframe tbody tr th:only-of-type {\n",
       "        vertical-align: middle;\n",
       "    }\n",
       "\n",
       "    .dataframe tbody tr th {\n",
       "        vertical-align: top;\n",
       "    }\n",
       "\n",
       "    .dataframe thead th {\n",
       "        text-align: right;\n",
       "    }\n",
       "</style>\n",
       "<table border=\"1\" class=\"dataframe\">\n",
       "  <thead>\n",
       "    <tr style=\"text-align: right;\">\n",
       "      <th>gender</th>\n",
       "      <th>award_year</th>\n",
       "      <th>female_ratio_nobels</th>\n",
       "      <th>male_ratio_nobels</th>\n",
       "    </tr>\n",
       "  </thead>\n",
       "  <tbody>\n",
       "    <tr>\n",
       "      <th>0</th>\n",
       "      <td>1901</td>\n",
       "      <td>0.0</td>\n",
       "      <td>1.0</td>\n",
       "    </tr>\n",
       "    <tr>\n",
       "      <th>1</th>\n",
       "      <td>1902</td>\n",
       "      <td>0.0</td>\n",
       "      <td>1.0</td>\n",
       "    </tr>\n",
       "    <tr>\n",
       "      <th>2</th>\n",
       "      <td>1903</td>\n",
       "      <td>0.2</td>\n",
       "      <td>0.8</td>\n",
       "    </tr>\n",
       "  </tbody>\n",
       "</table>\n",
       "</div>"
      ],
      "text/plain": [
       "gender  award_year  female_ratio_nobels  male_ratio_nobels\n",
       "0             1901                  0.0                1.0\n",
       "1             1902                  0.0                1.0\n",
       "2             1903                  0.2                0.8"
      ]
     },
     "metadata": {},
     "output_type": "display_data"
    }
   ],
   "source": [
    "#select only ratios\n",
    "nobels_ratio_by_year = nobels_by_year[['female_ratio_nobels', 'male_ratio_nobels']]\n",
    "nobels_ratio_by_year.reset_index(inplace=True)\n",
    "display(nobels_ratio_by_year.head(3))"
   ]
  },
  {
   "cell_type": "code",
   "execution_count": 144,
   "metadata": {},
   "outputs": [
    {
     "data": {
      "text/html": [
       "<div>\n",
       "<style scoped>\n",
       "    .dataframe tbody tr th:only-of-type {\n",
       "        vertical-align: middle;\n",
       "    }\n",
       "\n",
       "    .dataframe tbody tr th {\n",
       "        vertical-align: top;\n",
       "    }\n",
       "\n",
       "    .dataframe thead th {\n",
       "        text-align: right;\n",
       "    }\n",
       "</style>\n",
       "<table border=\"1\" class=\"dataframe\">\n",
       "  <thead>\n",
       "    <tr style=\"text-align: right;\">\n",
       "      <th>gender</th>\n",
       "      <th>year</th>\n",
       "      <th>female_ratio_nobels</th>\n",
       "      <th>male_ratio_nobels</th>\n",
       "    </tr>\n",
       "  </thead>\n",
       "  <tbody>\n",
       "    <tr>\n",
       "      <th>0</th>\n",
       "      <td>1901</td>\n",
       "      <td>0.0</td>\n",
       "      <td>1.0</td>\n",
       "    </tr>\n",
       "    <tr>\n",
       "      <th>1</th>\n",
       "      <td>1902</td>\n",
       "      <td>0.0</td>\n",
       "      <td>1.0</td>\n",
       "    </tr>\n",
       "    <tr>\n",
       "      <th>2</th>\n",
       "      <td>1903</td>\n",
       "      <td>0.2</td>\n",
       "      <td>0.8</td>\n",
       "    </tr>\n",
       "  </tbody>\n",
       "</table>\n",
       "</div>"
      ],
      "text/plain": [
       "gender  year  female_ratio_nobels  male_ratio_nobels\n",
       "0       1901                  0.0                1.0\n",
       "1       1902                  0.0                1.0\n",
       "2       1903                  0.2                0.8"
      ]
     },
     "metadata": {},
     "output_type": "display_data"
    }
   ],
   "source": [
    "#rename columns\n",
    "nobels_ratio_by_year = nobels_ratio_by_year.rename(columns={'award_year': 'year'})\n",
    "display(nobels_ratio_by_year.head(3))"
   ]
  },
  {
   "cell_type": "markdown",
   "metadata": {},
   "source": [
    "## Graphs"
   ]
  },
  {
   "cell_type": "code",
   "execution_count": 145,
   "metadata": {},
   "outputs": [],
   "source": [
    "custom_colors = {\n",
    "    'Men Nobel Win': '#1f77b4',        \n",
    "    'Men Scientists': '#87ceeb',            \n",
    "    'Women Nobel Win': '#cd8816',     \n",
    "    'Women Scientists': '#ffb333',          \n",
    "}"
   ]
  },
  {
   "cell_type": "code",
   "execution_count": 146,
   "metadata": {},
   "outputs": [
    {
     "data": {
      "text/html": [
       "<div>\n",
       "<style scoped>\n",
       "    .dataframe tbody tr th:only-of-type {\n",
       "        vertical-align: middle;\n",
       "    }\n",
       "\n",
       "    .dataframe tbody tr th {\n",
       "        vertical-align: top;\n",
       "    }\n",
       "\n",
       "    .dataframe thead th {\n",
       "        text-align: right;\n",
       "    }\n",
       "</style>\n",
       "<table border=\"1\" class=\"dataframe\">\n",
       "  <thead>\n",
       "    <tr style=\"text-align: right;\">\n",
       "      <th>gender</th>\n",
       "      <th>Women Winners</th>\n",
       "      <th>Men Winners</th>\n",
       "    </tr>\n",
       "    <tr>\n",
       "      <th>award_year</th>\n",
       "      <th></th>\n",
       "      <th></th>\n",
       "    </tr>\n",
       "  </thead>\n",
       "  <tbody>\n",
       "    <tr>\n",
       "      <th>1901</th>\n",
       "      <td>0</td>\n",
       "      <td>3</td>\n",
       "    </tr>\n",
       "    <tr>\n",
       "      <th>1902</th>\n",
       "      <td>0</td>\n",
       "      <td>7</td>\n",
       "    </tr>\n",
       "    <tr>\n",
       "      <th>1903</th>\n",
       "      <td>1</td>\n",
       "      <td>11</td>\n",
       "    </tr>\n",
       "  </tbody>\n",
       "</table>\n",
       "</div>"
      ],
      "text/plain": [
       "gender      Women Winners  Men Winners\n",
       "award_year                            \n",
       "1901                    0            3\n",
       "1902                    0            7\n",
       "1903                    1           11"
      ]
     },
     "metadata": {},
     "output_type": "display_data"
    }
   ],
   "source": [
    "#cumulative count\n",
    "gender_cumulative = gender_df.groupby(['award_year', 'gender']).size().unstack(fill_value=0).cumsum()\n",
    "gender_cumulative = gender_cumulative.rename(columns={'male': 'Men Winners', 'female': 'Women Winners'})\n",
    "display(gender_cumulative.head(3))"
   ]
  },
  {
   "cell_type": "code",
   "execution_count": 147,
   "metadata": {},
   "outputs": [
    {
     "data": {
      "application/vnd.plotly.v1+json": {
       "config": {
        "plotlyServerURL": "https://plot.ly"
       },
       "data": [
        {
         "hovertemplate": "variable=Men Winners<br>award_year=%{x}<br>value=%{y}<extra></extra>",
         "legendgroup": "Men Winners",
         "line": {
          "color": "#FFA15A",
          "dash": "solid"
         },
         "marker": {
          "symbol": "circle"
         },
         "mode": "lines",
         "name": "Men Winners",
         "orientation": "v",
         "showlegend": true,
         "type": "scatter",
         "x": [
          1901,
          1902,
          1903,
          1904,
          1905,
          1906,
          1907,
          1908,
          1909,
          1910,
          1911,
          1912,
          1913,
          1914,
          1915,
          1917,
          1918,
          1919,
          1920,
          1921,
          1922,
          1923,
          1924,
          1925,
          1926,
          1927,
          1928,
          1929,
          1930,
          1931,
          1932,
          1933,
          1934,
          1935,
          1936,
          1937,
          1938,
          1939,
          1943,
          1944,
          1945,
          1946,
          1947,
          1948,
          1949,
          1950,
          1951,
          1952,
          1953,
          1954,
          1955,
          1956,
          1957,
          1958,
          1959,
          1960,
          1961,
          1962,
          1963,
          1964,
          1965,
          1966,
          1967,
          1968,
          1969,
          1970,
          1971,
          1972,
          1973,
          1974,
          1975,
          1976,
          1977,
          1978,
          1979,
          1980,
          1981,
          1982,
          1983,
          1984,
          1985,
          1986,
          1987,
          1988,
          1989,
          1990,
          1991,
          1992,
          1993,
          1994,
          1995,
          1996,
          1997,
          1998,
          1999,
          2000,
          2001,
          2002,
          2003,
          2004,
          2005,
          2006,
          2007,
          2008,
          2009,
          2010,
          2011,
          2012,
          2013,
          2014,
          2015,
          2016,
          2017,
          2018,
          2019,
          2020,
          2021,
          2022,
          2023
         ],
         "xaxis": "x",
         "y": [
          3,
          7,
          11,
          14,
          17,
          21,
          24,
          28,
          32,
          35,
          37,
          41,
          44,
          47,
          50,
          51,
          53,
          55,
          58,
          60,
          64,
          68,
          70,
          73,
          76,
          80,
          83,
          88,
          91,
          94,
          98,
          101,
          105,
          108,
          113,
          118,
          121,
          125,
          129,
          133,
          138,
          143,
          147,
          150,
          154,
          160,
          165,
          170,
          174,
          180,
          184,
          192,
          196,
          203,
          208,
          212,
          216,
          222,
          229,
          234,
          241,
          245,
          252,
          257,
          265,
          272,
          276,
          285,
          294,
          302,
          312,
          318,
          326,
          334,
          343,
          351,
          360,
          366,
          370,
          377,
          383,
          391,
          398,
          407,
          415,
          424,
          429,
          434,
          442,
          450,
          458,
          468,
          477,
          486,
          491,
          502,
          514,
          525,
          534,
          543,
          553,
          559,
          568,
          577,
          584,
          593,
          602,
          610,
          621,
          630,
          638,
          647,
          657,
          665,
          676,
          683,
          693,
          701,
          707
         ],
         "yaxis": "y"
        },
        {
         "hovertemplate": "variable=Women Winners<br>award_year=%{x}<br>value=%{y}<extra></extra>",
         "legendgroup": "Women Winners",
         "line": {
          "color": "#19d3f3",
          "dash": "solid"
         },
         "marker": {
          "symbol": "circle"
         },
         "mode": "lines",
         "name": "Women Winners",
         "orientation": "v",
         "showlegend": true,
         "type": "scatter",
         "x": [
          1901,
          1902,
          1903,
          1904,
          1905,
          1906,
          1907,
          1908,
          1909,
          1910,
          1911,
          1912,
          1913,
          1914,
          1915,
          1917,
          1918,
          1919,
          1920,
          1921,
          1922,
          1923,
          1924,
          1925,
          1926,
          1927,
          1928,
          1929,
          1930,
          1931,
          1932,
          1933,
          1934,
          1935,
          1936,
          1937,
          1938,
          1939,
          1943,
          1944,
          1945,
          1946,
          1947,
          1948,
          1949,
          1950,
          1951,
          1952,
          1953,
          1954,
          1955,
          1956,
          1957,
          1958,
          1959,
          1960,
          1961,
          1962,
          1963,
          1964,
          1965,
          1966,
          1967,
          1968,
          1969,
          1970,
          1971,
          1972,
          1973,
          1974,
          1975,
          1976,
          1977,
          1978,
          1979,
          1980,
          1981,
          1982,
          1983,
          1984,
          1985,
          1986,
          1987,
          1988,
          1989,
          1990,
          1991,
          1992,
          1993,
          1994,
          1995,
          1996,
          1997,
          1998,
          1999,
          2000,
          2001,
          2002,
          2003,
          2004,
          2005,
          2006,
          2007,
          2008,
          2009,
          2010,
          2011,
          2012,
          2013,
          2014,
          2015,
          2016,
          2017,
          2018,
          2019,
          2020,
          2021,
          2022,
          2023
         ],
         "xaxis": "x",
         "y": [
          0,
          0,
          1,
          1,
          1,
          1,
          1,
          1,
          1,
          1,
          1,
          1,
          1,
          1,
          1,
          1,
          1,
          1,
          1,
          1,
          1,
          1,
          1,
          1,
          1,
          1,
          1,
          1,
          1,
          1,
          1,
          1,
          1,
          2,
          2,
          2,
          2,
          2,
          2,
          2,
          2,
          2,
          3,
          3,
          3,
          3,
          3,
          3,
          3,
          3,
          3,
          3,
          3,
          3,
          3,
          3,
          3,
          3,
          4,
          5,
          5,
          5,
          5,
          5,
          5,
          5,
          5,
          5,
          5,
          5,
          5,
          5,
          6,
          6,
          6,
          6,
          6,
          6,
          7,
          7,
          7,
          8,
          8,
          9,
          9,
          9,
          9,
          9,
          9,
          9,
          10,
          10,
          10,
          10,
          10,
          10,
          10,
          10,
          10,
          11,
          11,
          11,
          11,
          12,
          16,
          16,
          16,
          16,
          16,
          17,
          18,
          18,
          18,
          20,
          21,
          24,
          24,
          25,
          28
         ],
         "yaxis": "y"
        }
       ],
       "layout": {
        "legend": {
         "title": {
          "text": "variable"
         },
         "tracegroupgap": 0
        },
        "template": {
         "data": {
          "bar": [
           {
            "error_x": {
             "color": "#2a3f5f"
            },
            "error_y": {
             "color": "#2a3f5f"
            },
            "marker": {
             "line": {
              "color": "white",
              "width": 0.5
             },
             "pattern": {
              "fillmode": "overlay",
              "size": 10,
              "solidity": 0.2
             }
            },
            "type": "bar"
           }
          ],
          "barpolar": [
           {
            "marker": {
             "line": {
              "color": "white",
              "width": 0.5
             },
             "pattern": {
              "fillmode": "overlay",
              "size": 10,
              "solidity": 0.2
             }
            },
            "type": "barpolar"
           }
          ],
          "carpet": [
           {
            "aaxis": {
             "endlinecolor": "#2a3f5f",
             "gridcolor": "#C8D4E3",
             "linecolor": "#C8D4E3",
             "minorgridcolor": "#C8D4E3",
             "startlinecolor": "#2a3f5f"
            },
            "baxis": {
             "endlinecolor": "#2a3f5f",
             "gridcolor": "#C8D4E3",
             "linecolor": "#C8D4E3",
             "minorgridcolor": "#C8D4E3",
             "startlinecolor": "#2a3f5f"
            },
            "type": "carpet"
           }
          ],
          "choropleth": [
           {
            "colorbar": {
             "outlinewidth": 0,
             "ticks": ""
            },
            "type": "choropleth"
           }
          ],
          "contour": [
           {
            "colorbar": {
             "outlinewidth": 0,
             "ticks": ""
            },
            "colorscale": [
             [
              0,
              "#0d0887"
             ],
             [
              0.1111111111111111,
              "#46039f"
             ],
             [
              0.2222222222222222,
              "#7201a8"
             ],
             [
              0.3333333333333333,
              "#9c179e"
             ],
             [
              0.4444444444444444,
              "#bd3786"
             ],
             [
              0.5555555555555556,
              "#d8576b"
             ],
             [
              0.6666666666666666,
              "#ed7953"
             ],
             [
              0.7777777777777778,
              "#fb9f3a"
             ],
             [
              0.8888888888888888,
              "#fdca26"
             ],
             [
              1,
              "#f0f921"
             ]
            ],
            "type": "contour"
           }
          ],
          "contourcarpet": [
           {
            "colorbar": {
             "outlinewidth": 0,
             "ticks": ""
            },
            "type": "contourcarpet"
           }
          ],
          "heatmap": [
           {
            "colorbar": {
             "outlinewidth": 0,
             "ticks": ""
            },
            "colorscale": [
             [
              0,
              "#0d0887"
             ],
             [
              0.1111111111111111,
              "#46039f"
             ],
             [
              0.2222222222222222,
              "#7201a8"
             ],
             [
              0.3333333333333333,
              "#9c179e"
             ],
             [
              0.4444444444444444,
              "#bd3786"
             ],
             [
              0.5555555555555556,
              "#d8576b"
             ],
             [
              0.6666666666666666,
              "#ed7953"
             ],
             [
              0.7777777777777778,
              "#fb9f3a"
             ],
             [
              0.8888888888888888,
              "#fdca26"
             ],
             [
              1,
              "#f0f921"
             ]
            ],
            "type": "heatmap"
           }
          ],
          "heatmapgl": [
           {
            "colorbar": {
             "outlinewidth": 0,
             "ticks": ""
            },
            "colorscale": [
             [
              0,
              "#0d0887"
             ],
             [
              0.1111111111111111,
              "#46039f"
             ],
             [
              0.2222222222222222,
              "#7201a8"
             ],
             [
              0.3333333333333333,
              "#9c179e"
             ],
             [
              0.4444444444444444,
              "#bd3786"
             ],
             [
              0.5555555555555556,
              "#d8576b"
             ],
             [
              0.6666666666666666,
              "#ed7953"
             ],
             [
              0.7777777777777778,
              "#fb9f3a"
             ],
             [
              0.8888888888888888,
              "#fdca26"
             ],
             [
              1,
              "#f0f921"
             ]
            ],
            "type": "heatmapgl"
           }
          ],
          "histogram": [
           {
            "marker": {
             "pattern": {
              "fillmode": "overlay",
              "size": 10,
              "solidity": 0.2
             }
            },
            "type": "histogram"
           }
          ],
          "histogram2d": [
           {
            "colorbar": {
             "outlinewidth": 0,
             "ticks": ""
            },
            "colorscale": [
             [
              0,
              "#0d0887"
             ],
             [
              0.1111111111111111,
              "#46039f"
             ],
             [
              0.2222222222222222,
              "#7201a8"
             ],
             [
              0.3333333333333333,
              "#9c179e"
             ],
             [
              0.4444444444444444,
              "#bd3786"
             ],
             [
              0.5555555555555556,
              "#d8576b"
             ],
             [
              0.6666666666666666,
              "#ed7953"
             ],
             [
              0.7777777777777778,
              "#fb9f3a"
             ],
             [
              0.8888888888888888,
              "#fdca26"
             ],
             [
              1,
              "#f0f921"
             ]
            ],
            "type": "histogram2d"
           }
          ],
          "histogram2dcontour": [
           {
            "colorbar": {
             "outlinewidth": 0,
             "ticks": ""
            },
            "colorscale": [
             [
              0,
              "#0d0887"
             ],
             [
              0.1111111111111111,
              "#46039f"
             ],
             [
              0.2222222222222222,
              "#7201a8"
             ],
             [
              0.3333333333333333,
              "#9c179e"
             ],
             [
              0.4444444444444444,
              "#bd3786"
             ],
             [
              0.5555555555555556,
              "#d8576b"
             ],
             [
              0.6666666666666666,
              "#ed7953"
             ],
             [
              0.7777777777777778,
              "#fb9f3a"
             ],
             [
              0.8888888888888888,
              "#fdca26"
             ],
             [
              1,
              "#f0f921"
             ]
            ],
            "type": "histogram2dcontour"
           }
          ],
          "mesh3d": [
           {
            "colorbar": {
             "outlinewidth": 0,
             "ticks": ""
            },
            "type": "mesh3d"
           }
          ],
          "parcoords": [
           {
            "line": {
             "colorbar": {
              "outlinewidth": 0,
              "ticks": ""
             }
            },
            "type": "parcoords"
           }
          ],
          "pie": [
           {
            "automargin": true,
            "type": "pie"
           }
          ],
          "scatter": [
           {
            "fillpattern": {
             "fillmode": "overlay",
             "size": 10,
             "solidity": 0.2
            },
            "type": "scatter"
           }
          ],
          "scatter3d": [
           {
            "line": {
             "colorbar": {
              "outlinewidth": 0,
              "ticks": ""
             }
            },
            "marker": {
             "colorbar": {
              "outlinewidth": 0,
              "ticks": ""
             }
            },
            "type": "scatter3d"
           }
          ],
          "scattercarpet": [
           {
            "marker": {
             "colorbar": {
              "outlinewidth": 0,
              "ticks": ""
             }
            },
            "type": "scattercarpet"
           }
          ],
          "scattergeo": [
           {
            "marker": {
             "colorbar": {
              "outlinewidth": 0,
              "ticks": ""
             }
            },
            "type": "scattergeo"
           }
          ],
          "scattergl": [
           {
            "marker": {
             "colorbar": {
              "outlinewidth": 0,
              "ticks": ""
             }
            },
            "type": "scattergl"
           }
          ],
          "scattermapbox": [
           {
            "marker": {
             "colorbar": {
              "outlinewidth": 0,
              "ticks": ""
             }
            },
            "type": "scattermapbox"
           }
          ],
          "scatterpolar": [
           {
            "marker": {
             "colorbar": {
              "outlinewidth": 0,
              "ticks": ""
             }
            },
            "type": "scatterpolar"
           }
          ],
          "scatterpolargl": [
           {
            "marker": {
             "colorbar": {
              "outlinewidth": 0,
              "ticks": ""
             }
            },
            "type": "scatterpolargl"
           }
          ],
          "scatterternary": [
           {
            "marker": {
             "colorbar": {
              "outlinewidth": 0,
              "ticks": ""
             }
            },
            "type": "scatterternary"
           }
          ],
          "surface": [
           {
            "colorbar": {
             "outlinewidth": 0,
             "ticks": ""
            },
            "colorscale": [
             [
              0,
              "#0d0887"
             ],
             [
              0.1111111111111111,
              "#46039f"
             ],
             [
              0.2222222222222222,
              "#7201a8"
             ],
             [
              0.3333333333333333,
              "#9c179e"
             ],
             [
              0.4444444444444444,
              "#bd3786"
             ],
             [
              0.5555555555555556,
              "#d8576b"
             ],
             [
              0.6666666666666666,
              "#ed7953"
             ],
             [
              0.7777777777777778,
              "#fb9f3a"
             ],
             [
              0.8888888888888888,
              "#fdca26"
             ],
             [
              1,
              "#f0f921"
             ]
            ],
            "type": "surface"
           }
          ],
          "table": [
           {
            "cells": {
             "fill": {
              "color": "#EBF0F8"
             },
             "line": {
              "color": "white"
             }
            },
            "header": {
             "fill": {
              "color": "#C8D4E3"
             },
             "line": {
              "color": "white"
             }
            },
            "type": "table"
           }
          ]
         },
         "layout": {
          "annotationdefaults": {
           "arrowcolor": "#2a3f5f",
           "arrowhead": 0,
           "arrowwidth": 1
          },
          "autotypenumbers": "strict",
          "coloraxis": {
           "colorbar": {
            "outlinewidth": 0,
            "ticks": ""
           }
          },
          "colorscale": {
           "diverging": [
            [
             0,
             "#8e0152"
            ],
            [
             0.1,
             "#c51b7d"
            ],
            [
             0.2,
             "#de77ae"
            ],
            [
             0.3,
             "#f1b6da"
            ],
            [
             0.4,
             "#fde0ef"
            ],
            [
             0.5,
             "#f7f7f7"
            ],
            [
             0.6,
             "#e6f5d0"
            ],
            [
             0.7,
             "#b8e186"
            ],
            [
             0.8,
             "#7fbc41"
            ],
            [
             0.9,
             "#4d9221"
            ],
            [
             1,
             "#276419"
            ]
           ],
           "sequential": [
            [
             0,
             "#0d0887"
            ],
            [
             0.1111111111111111,
             "#46039f"
            ],
            [
             0.2222222222222222,
             "#7201a8"
            ],
            [
             0.3333333333333333,
             "#9c179e"
            ],
            [
             0.4444444444444444,
             "#bd3786"
            ],
            [
             0.5555555555555556,
             "#d8576b"
            ],
            [
             0.6666666666666666,
             "#ed7953"
            ],
            [
             0.7777777777777778,
             "#fb9f3a"
            ],
            [
             0.8888888888888888,
             "#fdca26"
            ],
            [
             1,
             "#f0f921"
            ]
           ],
           "sequentialminus": [
            [
             0,
             "#0d0887"
            ],
            [
             0.1111111111111111,
             "#46039f"
            ],
            [
             0.2222222222222222,
             "#7201a8"
            ],
            [
             0.3333333333333333,
             "#9c179e"
            ],
            [
             0.4444444444444444,
             "#bd3786"
            ],
            [
             0.5555555555555556,
             "#d8576b"
            ],
            [
             0.6666666666666666,
             "#ed7953"
            ],
            [
             0.7777777777777778,
             "#fb9f3a"
            ],
            [
             0.8888888888888888,
             "#fdca26"
            ],
            [
             1,
             "#f0f921"
            ]
           ]
          },
          "colorway": [
           "#636efa",
           "#EF553B",
           "#00cc96",
           "#ab63fa",
           "#FFA15A",
           "#19d3f3",
           "#FF6692",
           "#B6E880",
           "#FF97FF",
           "#FECB52"
          ],
          "font": {
           "color": "#2a3f5f"
          },
          "geo": {
           "bgcolor": "white",
           "lakecolor": "white",
           "landcolor": "white",
           "showlakes": true,
           "showland": true,
           "subunitcolor": "#C8D4E3"
          },
          "hoverlabel": {
           "align": "left"
          },
          "hovermode": "closest",
          "mapbox": {
           "style": "light"
          },
          "paper_bgcolor": "white",
          "plot_bgcolor": "white",
          "polar": {
           "angularaxis": {
            "gridcolor": "#EBF0F8",
            "linecolor": "#EBF0F8",
            "ticks": ""
           },
           "bgcolor": "white",
           "radialaxis": {
            "gridcolor": "#EBF0F8",
            "linecolor": "#EBF0F8",
            "ticks": ""
           }
          },
          "scene": {
           "xaxis": {
            "backgroundcolor": "white",
            "gridcolor": "#DFE8F3",
            "gridwidth": 2,
            "linecolor": "#EBF0F8",
            "showbackground": true,
            "ticks": "",
            "zerolinecolor": "#EBF0F8"
           },
           "yaxis": {
            "backgroundcolor": "white",
            "gridcolor": "#DFE8F3",
            "gridwidth": 2,
            "linecolor": "#EBF0F8",
            "showbackground": true,
            "ticks": "",
            "zerolinecolor": "#EBF0F8"
           },
           "zaxis": {
            "backgroundcolor": "white",
            "gridcolor": "#DFE8F3",
            "gridwidth": 2,
            "linecolor": "#EBF0F8",
            "showbackground": true,
            "ticks": "",
            "zerolinecolor": "#EBF0F8"
           }
          },
          "shapedefaults": {
           "line": {
            "color": "#2a3f5f"
           }
          },
          "ternary": {
           "aaxis": {
            "gridcolor": "#DFE8F3",
            "linecolor": "#A2B1C6",
            "ticks": ""
           },
           "baxis": {
            "gridcolor": "#DFE8F3",
            "linecolor": "#A2B1C6",
            "ticks": ""
           },
           "bgcolor": "white",
           "caxis": {
            "gridcolor": "#DFE8F3",
            "linecolor": "#A2B1C6",
            "ticks": ""
           }
          },
          "title": {
           "x": 0.05
          },
          "xaxis": {
           "automargin": true,
           "gridcolor": "#EBF0F8",
           "linecolor": "#EBF0F8",
           "ticks": "",
           "title": {
            "standoff": 15
           },
           "zerolinecolor": "#EBF0F8",
           "zerolinewidth": 2
          },
          "yaxis": {
           "automargin": true,
           "gridcolor": "#EBF0F8",
           "linecolor": "#EBF0F8",
           "ticks": "",
           "title": {
            "standoff": 15
           },
           "zerolinecolor": "#EBF0F8",
           "zerolinewidth": 2
          }
         }
        },
        "title": {
         "text": "Cumulative Gender Distribution of Nobel Laureates"
        },
        "xaxis": {
         "anchor": "y",
         "domain": [
          0,
          1
         ],
         "title": {
          "text": "award_year"
         }
        },
        "yaxis": {
         "anchor": "x",
         "domain": [
          0,
          1
         ],
         "title": {
          "text": "value"
         }
        }
       }
      }
     },
     "metadata": {},
     "output_type": "display_data"
    }
   ],
   "source": [
    "fig = px.line(gender_cumulative, x=gender_cumulative.index, y=['Men Winners', 'Women Winners'], title='Cumulative Gender Distribution of Nobel Laureates', color_discrete_map=custom_colors)\n",
    "fig.update_layout(template='plotly_white')\n",
    "fig.show()"
   ]
  },
  {
   "cell_type": "markdown",
   "metadata": {},
   "source": [
    "### FIELD ANALYSIS  "
   ]
  },
  {
   "cell_type": "code",
   "execution_count": 148,
   "metadata": {},
   "outputs": [
    {
     "name": "stdout",
     "output_type": "stream",
     "text": [
      "Loading from cached names db\n"
     ]
    },
    {
     "data": {
      "text/html": [
       "<div>\n",
       "<style scoped>\n",
       "    .dataframe tbody tr th:only-of-type {\n",
       "        vertical-align: middle;\n",
       "    }\n",
       "\n",
       "    .dataframe tbody tr th {\n",
       "        vertical-align: top;\n",
       "    }\n",
       "\n",
       "    .dataframe thead th {\n",
       "        text-align: right;\n",
       "    }\n",
       "</style>\n",
       "<table border=\"1\" class=\"dataframe\">\n",
       "  <thead>\n",
       "    <tr style=\"text-align: right;\">\n",
       "      <th></th>\n",
       "      <th>year</th>\n",
       "      <th>field</th>\n",
       "      <th>name</th>\n",
       "      <th>gender</th>\n",
       "    </tr>\n",
       "  </thead>\n",
       "  <tbody>\n",
       "    <tr>\n",
       "      <th>0</th>\n",
       "      <td>1901</td>\n",
       "      <td>Physics</td>\n",
       "      <td>Ludwig</td>\n",
       "      <td>NaN</td>\n",
       "    </tr>\n",
       "    <tr>\n",
       "      <th>1</th>\n",
       "      <td>1901</td>\n",
       "      <td>Physics</td>\n",
       "      <td>Dawson</td>\n",
       "      <td>NaN</td>\n",
       "    </tr>\n",
       "    <tr>\n",
       "      <th>2</th>\n",
       "      <td>1901</td>\n",
       "      <td>Physics</td>\n",
       "      <td>John</td>\n",
       "      <td>NaN</td>\n",
       "    </tr>\n",
       "    <tr>\n",
       "      <th>3</th>\n",
       "      <td>1901</td>\n",
       "      <td>Physics</td>\n",
       "      <td>George</td>\n",
       "      <td>NaN</td>\n",
       "    </tr>\n",
       "    <tr>\n",
       "      <th>4</th>\n",
       "      <td>1901</td>\n",
       "      <td>Chemistry</td>\n",
       "      <td>Bernard</td>\n",
       "      <td>NaN</td>\n",
       "    </tr>\n",
       "    <tr>\n",
       "      <th>...</th>\n",
       "      <td>...</td>\n",
       "      <td>...</td>\n",
       "      <td>...</td>\n",
       "      <td>...</td>\n",
       "    </tr>\n",
       "    <tr>\n",
       "      <th>4549</th>\n",
       "      <td>2023</td>\n",
       "      <td>Economic Sciences</td>\n",
       "      <td>Vincenzo</td>\n",
       "      <td>NaN</td>\n",
       "    </tr>\n",
       "    <tr>\n",
       "      <th>4550</th>\n",
       "      <td>2023</td>\n",
       "      <td>Economic Sciences</td>\n",
       "      <td>Henrique</td>\n",
       "      <td>NaN</td>\n",
       "    </tr>\n",
       "    <tr>\n",
       "      <th>4551</th>\n",
       "      <td>2023</td>\n",
       "      <td>Economic Sciences</td>\n",
       "      <td>Tünde-Ilona</td>\n",
       "      <td>NaN</td>\n",
       "    </tr>\n",
       "    <tr>\n",
       "      <th>4552</th>\n",
       "      <td>2023</td>\n",
       "      <td>Economic Sciences</td>\n",
       "      <td>Salvatore</td>\n",
       "      <td>NaN</td>\n",
       "    </tr>\n",
       "    <tr>\n",
       "      <th>4553</th>\n",
       "      <td>2023</td>\n",
       "      <td>Economic Sciences</td>\n",
       "      <td>Victor</td>\n",
       "      <td>NaN</td>\n",
       "    </tr>\n",
       "  </tbody>\n",
       "</table>\n",
       "<p>4554 rows × 4 columns</p>\n",
       "</div>"
      ],
      "text/plain": [
       "      year              field         name  gender\n",
       "0     1901            Physics       Ludwig     NaN\n",
       "1     1901            Physics       Dawson     NaN\n",
       "2     1901            Physics         John     NaN\n",
       "3     1901            Physics       George     NaN\n",
       "4     1901          Chemistry      Bernard     NaN\n",
       "...    ...                ...          ...     ...\n",
       "4549  2023  Economic Sciences     Vincenzo     NaN\n",
       "4550  2023  Economic Sciences     Henrique     NaN\n",
       "4551  2023  Economic Sciences  Tünde-Ilona     NaN\n",
       "4552  2023  Economic Sciences    Salvatore     NaN\n",
       "4553  2023  Economic Sciences       Victor     NaN\n",
       "\n",
       "[4554 rows x 4 columns]"
      ]
     },
     "metadata": {},
     "output_type": "display_data"
    }
   ],
   "source": [
    "#get the authors of random papers\n",
    "authors_names_df = get_papers_authors(gender_columns, 1901, 2023, 'initial')\n",
    "display(authors_names_df)"
   ]
  },
  {
   "cell_type": "code",
   "execution_count": 151,
   "metadata": {},
   "outputs": [
    {
     "data": {
      "text/html": [
       "<div>\n",
       "<style scoped>\n",
       "    .dataframe tbody tr th:only-of-type {\n",
       "        vertical-align: middle;\n",
       "    }\n",
       "\n",
       "    .dataframe tbody tr th {\n",
       "        vertical-align: top;\n",
       "    }\n",
       "\n",
       "    .dataframe thead th {\n",
       "        text-align: right;\n",
       "    }\n",
       "</style>\n",
       "<table border=\"1\" class=\"dataframe\">\n",
       "  <thead>\n",
       "    <tr style=\"text-align: right;\">\n",
       "      <th></th>\n",
       "      <th>year</th>\n",
       "      <th>field</th>\n",
       "      <th>name</th>\n",
       "      <th>gender</th>\n",
       "    </tr>\n",
       "  </thead>\n",
       "  <tbody>\n",
       "    <tr>\n",
       "      <th>0</th>\n",
       "      <td>1901</td>\n",
       "      <td>Physics</td>\n",
       "      <td>Ludwig</td>\n",
       "      <td>male</td>\n",
       "    </tr>\n",
       "    <tr>\n",
       "      <th>1</th>\n",
       "      <td>1901</td>\n",
       "      <td>Physics</td>\n",
       "      <td>Dawson</td>\n",
       "      <td>male</td>\n",
       "    </tr>\n",
       "    <tr>\n",
       "      <th>2</th>\n",
       "      <td>1901</td>\n",
       "      <td>Physics</td>\n",
       "      <td>John</td>\n",
       "      <td>male</td>\n",
       "    </tr>\n",
       "  </tbody>\n",
       "</table>\n",
       "</div>"
      ],
      "text/plain": [
       "   year    field    name gender\n",
       "0  1901  Physics  Ludwig   male\n",
       "1  1901  Physics  Dawson   male\n",
       "2  1901  Physics    John   male"
      ]
     },
     "metadata": {},
     "output_type": "display_data"
    }
   ],
   "source": [
    "#genderize the names\n",
    "fields_df = genderize_names(authors_names_df)\n",
    "display(fields_df.head(3))"
   ]
  },
  {
   "cell_type": "code",
   "execution_count": null,
   "metadata": {},
   "outputs": [],
   "source": [
    "#group by decade\n",
    "fields_df['decade'] = fields_df['year'] // 10 * 10\n",
    "display(fields_df)\n",
    "\n",
    "#proportion of males and females by decade\n",
    "gender_counts = fields_df.groupby(['decade', 'gender']).size().reset_index(name='count')\n",
    "display(gender_counts)\n",
    "\n",
    "total_counts = fields_df.groupby('decade').size().reset_index(name='total')\n",
    "display(total_counts)\n",
    "\n",
    "gender_proportions = pd.merge(gender_counts, total_counts, on='decade')\n",
    "gender_proportions['proportion'] = gender_proportions['count'] / gender_proportions['total']\n",
    "display(gender_proportions)\n",
    "\n",
    "pivot_fields_df = gender_proportions.pivot(index='decade', columns='gender', values='proportion').reset_index()\n",
    "print(pivot_fields_df)\n"
   ]
  },
  {
   "cell_type": "code",
   "execution_count": null,
   "metadata": {},
   "outputs": [],
   "source": [
    "# proportion of males and females by year\n",
    "gender_counts = fields_df.groupby(['year', 'gender']).size().reset_index(name='count')\n",
    "display(gender_counts)\n",
    "\n",
    "total_counts = fields_df.groupby('year').size().reset_index(name='total')\n",
    "display(total_counts)\n",
    "\n",
    "gender_proportions = pd.merge(gender_counts, total_counts, on='year')\n",
    "gender_proportions['proportion'] = gender_proportions['count'] / gender_proportions['total']\n",
    "display(gender_proportions)\n",
    "\n",
    "pivot_fields_df = gender_proportions.pivot(index='year', columns='gender', values='proportion').reset_index()\n",
    "display(pivot_fields_df)\n",
    "\n",
    "# graph the data\n",
    "fig = px.line(pivot_fields_df, x='year', y=['female', 'male'], title='Scientific papers by Gender Over Time')\n",
    "fig.show()\n",
    "\n",
    "# Overlay yearly_ratio and pivot_fields_df\n",
    "fig = px.line(yearly_gender_ratio, x=yearly_gender_ratio.index, y=['female_ratio', 'male_ratio'], title='Yearly Distribution of Nobel Laureates')\n",
    "\n",
    "\n",
    "fig.show()\n",
    "\n",
    "\n",
    "\n"
   ]
  },
  {
   "cell_type": "code",
   "execution_count": null,
   "metadata": {},
   "outputs": [],
   "source": [
    "display(pivot_fields_df)\n",
    "display(nobels_ratio_by_year)\n",
    "\n",
    "# Ensure 'year' columns are of the same data type\n",
    "pivot_fields_df['year'] = pivot_fields_df['year'].astype(int)\n",
    "nobels_ratio_by_year['year'] = nobels_ratio_by_year['year'].astype(int)\n",
    "\n",
    "merged_ratios = pd.merge(pivot_fields_df, nobels_ratio_by_year, left_on='year', right_on='year', suffixes=('_papers', '_nobels'))\n",
    "merged_ratios.rename(columns={\n",
    "    'female': 'Women Scientists',\n",
    "    'male': 'Men Scientists',\n",
    "    'female_ratio_nobels': 'Women Nobel Win',\n",
    "    'male_ratio_nobels': 'Men Nobel Win'\n",
    "}, inplace=True)\n",
    "display(merged_ratios)\n",
    "\n",
    "\n",
    "\"\"\" custom_colors = {\n",
    "    'Men Nobel Win': '#1f77b4',        \n",
    "    'Men Scientists': '#87ceeb',            \n",
    "    'Women Nobel Win': '#cd8816',     \n",
    "    'Women Scientists': '#ffb333',          \n",
    "} \"\"\"\n",
    "\n",
    "# Create the line graph with markers\n",
    "fig = px.line(\n",
    "    merged_ratios,\n",
    "    x='year',\n",
    "    y=[\n",
    "        'Men Nobel Win',\n",
    "        'Men Scientists', \n",
    "        'Women Nobel Win', \n",
    "        'Women Scientists', \n",
    "        ],\n",
    "    title='Gender Ratios in Scientific Papers and Nobel Laureates Over Time',\n",
    "    color_discrete_map=custom_colors,\n",
    ")\n",
    "# Apply a theme\n",
    "fig.update_layout(template='plotly_white')\n",
    "# Update fonts\n",
    "\n",
    "fig.add_annotation(\n",
    "    x=2009,\n",
    "    y=merged_ratios.loc[merged_ratios['year'] == 2009, 'Women Nobel Win'].values[0],\n",
    "    text=\"Rare over representation\",\n",
    "    showarrow=True,\n",
    "    arrowhead=1\n",
    ")\n",
    "\n",
    "fig.show()\n",
    "\n",
    "# Calculate average ratios over time\n",
    "average_ratios_df = merged_ratios.mean().to_frame(name='Average').T\n",
    "average_ratios_df = average_ratios_df.drop(columns='year')\n",
    "display(average_ratios_df)\n",
    "\n",
    "# Create a bar chart for average ratios\n",
    "fig_avg = px.bar(\n",
    "    average_ratios_df.melt(var_name='Category', value_name='Average Ratio'),\n",
    "    x='Category',\n",
    "    y='Average Ratio',\n",
    "    title='Average Gender Ratios in Scientific Papers and Nobel Laureates',\n",
    "    color='Category',\n",
    "    color_discrete_map=custom_colors\n",
    ")\n",
    "fig_avg.update_layout(template='plotly_white')\n",
    "fig_avg.show()\n"
   ]
  }
 ],
 "metadata": {
  "kernelspec": {
   "display_name": "base",
   "language": "python",
   "name": "python3"
  },
  "language_info": {
   "codemirror_mode": {
    "name": "ipython",
    "version": 3
   },
   "file_extension": ".py",
   "mimetype": "text/x-python",
   "name": "python",
   "nbconvert_exporter": "python",
   "pygments_lexer": "ipython3",
   "version": "3.12.4"
  }
 },
 "nbformat": 4,
 "nbformat_minor": 2
}
