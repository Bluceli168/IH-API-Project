{
 "cells": [
  {
   "cell_type": "markdown",
   "metadata": {},
   "source": [
    "# API Quest\n",
    "## Oslo"
   ]
  },
  {
   "cell_type": "markdown",
   "metadata": {},
   "source": [
    "# HYPOTHESIS\n",
    "- Rich countries have more Nobel Prizes\n",
    "    - Nobel prize winners immigrate towards rich countries\n",
    "    - Nobel prize winners immigrate towards stable countries\n",
    "- Countries of birth / early education have more impact than countries of higher education\n",
    "- Nobel Prizes Laureates are getting younger\n",
    "- Nobel Prizes are awarded more to international teams than before\n",
    "\n",
    "- Gender Differences: Is there a significant difference in the gender ratio among Nobel Prize winners? Has this changed over time?\n",
    "- Geographic Distribution: In which countries or regions are Nobel Prize winners predominantly located? Has this distribution changed over time?\n",
    "- Age of Winners: What is the age distribution of Nobel Prize winners? Are there any noticeable trends in age?\n",
    "- Publications: Are there specific journals where Nobel Prize winners’ research is commonly published? How influential are these journals?"
   ]
  },
  {
   "cell_type": "markdown",
   "metadata": {},
   "source": [
    "## HYPOTHESIS 1\n",
    "- Men are over represented in Nobel Prizes"
   ]
  },
  {
   "cell_type": "markdown",
   "metadata": {},
   "source": [
    "## Selected data sources\n",
    "\n",
    "1. Nobel API\n",
    "2. crossref.org\n",
    "3. https://archive.ics.uci.edu/ml/datasets/Gender+by+Name\n",
    "4. namsor.app"
   ]
  },
  {
   "cell_type": "code",
   "execution_count": 3,
   "metadata": {},
   "outputs": [],
   "source": [
    "#QUESTIONS\n",
    "#caching\n",
    "#error handling / checkpoints?\n",
    "#nested jsons?\n",
    "#what if we don't know the possible value?\n",
    "#FileNotFoundError as check for file existence?"
   ]
  },
  {
   "cell_type": "code",
   "execution_count": 4,
   "metadata": {},
   "outputs": [],
   "source": [
    "#TODO fix given names function to accept ending years\n",
    "#TODO compare bar charts of nobel vs fields\n",
    "#TODO compare evolution of fields\n",
    "#TODO PREZ dropped analysis by lack of data\n"
   ]
  },
  {
   "cell_type": "code",
   "execution_count": 5,
   "metadata": {},
   "outputs": [],
   "source": [
    "%load_ext autoreload\n",
    "%autoreload 2 "
   ]
  },
  {
   "cell_type": "code",
   "execution_count": 6,
   "metadata": {},
   "outputs": [],
   "source": [
    "#imports\n",
    "import os\n",
    "import requests\n",
    "import time\n",
    "import pandas as pd\n",
    "from dotenv import load_dotenv\n",
    "from datetime import datetime\n",
    "import plotly.express as px\n",
    "from wrangling import *"
   ]
  },
  {
   "cell_type": "code",
   "execution_count": 7,
   "metadata": {},
   "outputs": [],
   "source": [
    "#settings\n",
    "pd.set_option('display.max_colwidth', 900)\n",
    "pd.set_option('display.max_rows', 40)"
   ]
  },
  {
   "cell_type": "code",
   "execution_count": 8,
   "metadata": {},
   "outputs": [],
   "source": [
    "#load env\n",
    "load_dotenv()\n",
    "name_token = os.getenv('NAME_KEY')\n"
   ]
  },
  {
   "cell_type": "code",
   "execution_count": 9,
   "metadata": {},
   "outputs": [],
   "source": [
    "#TODO: Get the data from the API\n",
    "enrollment_df = pd.read_csv('sources/school_enrolment_gender.csv')\n",
    "enrollment_df.head()\n",
    "\n",
    "laureates_url = 'https://api.nobelprize.org/2.1/laureates'"
   ]
  },
  {
   "cell_type": "code",
   "execution_count": null,
   "metadata": {},
   "outputs": [],
   "source": [
    "laureates_df = get_all_laureates(laureates_url)\n",
    "laureates_df.to_csv('sources/laureates.csv', index=False)\n",
    "display(laureates_df)"
   ]
  },
  {
   "cell_type": "code",
   "execution_count": null,
   "metadata": {},
   "outputs": [],
   "source": [
    "for column_name in laureates_df.columns:\n",
    "    print(column_name)"
   ]
  },
  {
   "cell_type": "markdown",
   "metadata": {},
   "source": [
    "### GENDER ANALYSIS"
   ]
  },
  {
   "cell_type": "code",
   "execution_count": 12,
   "metadata": {},
   "outputs": [],
   "source": [
    "gender_columns = get_json('schema')"
   ]
  },
  {
   "cell_type": "markdown",
   "metadata": {},
   "source": [
    "# nobels ratio by year"
   ]
  },
  {
   "cell_type": "code",
   "execution_count": 13,
   "metadata": {},
   "outputs": [],
   "source": [
    "custom_colors = {\n",
    "    'Men Nobel Win': '#1f77b4',        \n",
    "    'Men Scientists': '#87ceeb',            \n",
    "    'Women Nobel Win': '#cd8816',     \n",
    "    'Women Scientists': '#ffb333',          \n",
    "}"
   ]
  },
  {
   "cell_type": "code",
   "execution_count": null,
   "metadata": {},
   "outputs": [],
   "source": [
    "gender_df = shape_dataframe(laureates_df, gender_columns)\n",
    "\n",
    "nobels_by_year = gender_df.groupby(['award_year', 'gender']).size().unstack(fill_value=0)\n",
    "nobels_by_year['total'] = nobels_by_year.sum(axis=1)\n",
    "nobels_by_year['female_ratio_nobels'] = nobels_by_year['female'] / nobels_by_year['total']\n",
    "nobels_by_year['male_ratio_nobels'] = nobels_by_year['male'] / nobels_by_year['total']\n",
    "nobels_by_year['ratio_diff_nobels'] = nobels_by_year['male_ratio_nobels'] - nobels_by_year['female_ratio_nobels']\n",
    "nobels_ratio_by_year = nobels_by_year[['female_ratio_nobels', 'male_ratio_nobels']]\n",
    "nobels_ratio_by_year.reset_index(inplace=True)\n",
    "nobels_ratio_by_year = nobels_ratio_by_year.rename(columns={'award_year': 'year'})\n",
    "display(nobels_ratio_by_year)\n",
    "fig = px.line(nobels_ratio_by_year, x='year', y=['female_ratio_nobels', 'male_ratio_nobels'], title='Yearly Gender Ratio of Nobel Laureates')\n",
    "fig.show()"
   ]
  },
  {
   "cell_type": "code",
   "execution_count": null,
   "metadata": {},
   "outputs": [],
   "source": [
    "gender_counts = gender_df.groupby('gender').aggregate({'id': 'count'}).reset_index()\n",
    "gender_counts['proportion'] = gender_counts['id'] / gender_counts['id'].sum()\n",
    "gender_counts['proportion'] = gender_counts['proportion'].apply(lambda x: f\"{x:.0%}\")\n",
    "gender_counts.sort_values('proportion', ascending=False, inplace=True)\n",
    "gender_counts.index = range(1, len(gender_counts) + 1)\n",
    "display(gender_counts)"
   ]
  },
  {
   "cell_type": "code",
   "execution_count": null,
   "metadata": {},
   "outputs": [],
   "source": [
    "fig = px.bar(gender_counts, x='gender', y='id', text='proportion', title='Gender Distribution of Nobel Laureates')\n",
    "fig.show()"
   ]
  },
  {
   "cell_type": "code",
   "execution_count": null,
   "metadata": {},
   "outputs": [],
   "source": [
    "yearly_gender_ratio = gender_df.groupby(['award_year','gender']).size().unstack(fill_value=0)\n",
    "display(yearly_gender_ratio[['female','male']])\n",
    "yearly_gender_ratio['total'] = yearly_gender_ratio.sum(axis=1)\n",
    "yearly_gender_ratio['female_ratio'] = yearly_gender_ratio['female'] / yearly_gender_ratio['total']\n",
    "yearly_gender_ratio['male_ratio'] = yearly_gender_ratio['male'] / yearly_gender_ratio['total']\n",
    "display(yearly_gender_ratio[['female_ratio','male_ratio']])"
   ]
  },
  {
   "cell_type": "code",
   "execution_count": null,
   "metadata": {},
   "outputs": [],
   "source": [
    "fig = px.line(yearly_gender_ratio, x=yearly_gender_ratio.index, y=['female_ratio', 'male_ratio'], title='Yearly Gender Distribution of Nobel Laureates')\n",
    "fig.show()"
   ]
  },
  {
   "cell_type": "code",
   "execution_count": null,
   "metadata": {},
   "outputs": [],
   "source": [
    "gender_cumulative = gender_df.groupby(['award_year', 'gender']).size().unstack(fill_value=0).cumsum()\n",
    "display(gender_cumulative)\n",
    "gender_cumulative['total'] = gender_cumulative.sum(axis=1)\n",
    "gender_cumulative['male_proportion'] = gender_cumulative['male'] / gender_cumulative['total']\n",
    "gender_cumulative['female_proportion'] = gender_cumulative['female'] / gender_cumulative['total']\n",
    "display(gender_cumulative[['male_proportion', 'female_proportion']])\n",
    "graph_df = gender_cumulative.copy()\n",
    "graph_df = graph_df.rename(columns={'male': 'Men Winners', 'female': 'Women Winners'})\n"
   ]
  },
  {
   "cell_type": "code",
   "execution_count": null,
   "metadata": {},
   "outputs": [],
   "source": [
    "fig = px.line(gender_cumulative, x=gender_cumulative.index, y=['female_proportion', 'male_proportion'], title='Cumulative Proportion of Nobel Laureates by gender')\n",
    "fig.show()"
   ]
  },
  {
   "cell_type": "code",
   "execution_count": null,
   "metadata": {},
   "outputs": [],
   "source": [
    "fig = px.line(graph_df, x=graph_df.index, y=['Men Winners', 'Women Winners'], title='Cumulative Gender Distribution of Nobel Laureates', color_discrete_map=custom_colors)\n",
    "fig.update_layout(template='plotly_white')\n",
    "fig.show()"
   ]
  },
  {
   "cell_type": "markdown",
   "metadata": {},
   "source": [
    "### FIELD ANALYSIS  "
   ]
  },
  {
   "cell_type": "code",
   "execution_count": null,
   "metadata": {},
   "outputs": [],
   "source": [
    "#get the authors of random papers\n",
    "authors_names_df = get_papers_authors(gender_columns, 1901, 2023, 'initial')\n",
    "display(authors_names_df)"
   ]
  },
  {
   "cell_type": "code",
   "execution_count": 21,
   "metadata": {},
   "outputs": [],
   "source": [
    "#clean and select the names+gender database\n",
    "def clean_name_gender_db(source_path = 'sources/name_gender_dataset.csv', target_path = 'sources/name_gender_database_clean.csv'):\n",
    "    \n",
    "    try:\n",
    "        df = pd.read_csv(target_path)\n",
    "               \n",
    "    except FileNotFoundError as e:\n",
    "        \n",
    "        print(f\"{e}\")\n",
    "        df = pd.read_csv(f'{source_path}')\n",
    "        df = df.rename(lambda x: x.lower(), axis=1)\n",
    "        df = df[['name','gender']]\n",
    "        df['gender'] = df['gender'].apply(lambda x: 'male' if x == 'M' else 'female' if x == 'F' else None)\n",
    "        df.to_csv(f'{target_path}', index=False)\n",
    "        \n",
    "    return df\n",
    "\n"
   ]
  },
  {
   "cell_type": "code",
   "execution_count": 22,
   "metadata": {},
   "outputs": [],
   "source": [
    "#supplement the database with missing values from laureates\n",
    "def find_missing_values_in_db(db, list, column_name  = 'name'):\n",
    "    missing_values = list[~list[column_name].str.lower().isin(db[column_name].str.lower())]\n",
    "    return missing_values\n"
   ]
  },
  {
   "cell_type": "code",
   "execution_count": 23,
   "metadata": {},
   "outputs": [],
   "source": [
    "\n",
    "\n",
    "# call namsor API with the list\n",
    "\n",
    "def get_genders_from_name_api(name_list_df, token, limit = 50) -> dict:\n",
    "    \n",
    "    final_list = []\n",
    "    url = \"https://v2.namsor.com/NamSorAPIv2/api2/json/genderBatch\"\n",
    "\n",
    "    while len(name_list_df) > 0:\n",
    "        \n",
    "        payload = {\n",
    "            \"personalNames\": [{\"firstName\": name} for name in name_list_df['name'][:limit]]\n",
    "        }\n",
    "        \n",
    "        print(payload)\n",
    "\n",
    "        headers = {\n",
    "            \"X-API-KEY\": token,\n",
    "            \"Accept\": \"application/json\",\n",
    "            \"Content-Type\": \"application/json\"\n",
    "        }\n",
    "\n",
    "        response = requests.post(url, headers=headers, json=payload)\n",
    "        response = response.json()\n",
    "        final_list.extend(response[\"personalNames\"])\n",
    "        name_list_df = name_list_df[limit:]\n",
    "        time.sleep(1)\n",
    "        \n",
    "    return final_list\n",
    "\n",
    "def format_new_names(new_names):\n",
    "    new_names = pd.DataFrame(new_names)\n",
    "    new_names = new_names[['firstName', 'likelyGender']]\n",
    "    new_names = new_names.rename(columns={'firstName': 'name', 'likelyGender': 'gender'})\n",
    "    return new_names\n",
    "                                          "
   ]
  },
  {
   "cell_type": "code",
   "execution_count": 24,
   "metadata": {},
   "outputs": [],
   "source": [
    "#update the database with the new values\n",
    "def update_name_gender_db(db_df, new_names_gender_df):\n",
    "    db_df = pd.concat([db_df, new_names_gender_df], ignore_index=True)\n",
    "    db_df = db_df.drop_duplicates(subset='name', keep='first')\n",
    "    db_df.to_csv('sources/name_gender_database_clean.csv', index=False)\n",
    "    return db_df"
   ]
  },
  {
   "cell_type": "code",
   "execution_count": 25,
   "metadata": {},
   "outputs": [],
   "source": [
    "#update the authors names df with the new genders\n",
    "\n",
    "def update_gender_from_db(df: pd.DataFrame, db: pd.DataFrame):\n",
    "    \n",
    "    db = db.drop_duplicates(subset='name', keep='first')\n",
    "    \n",
    "    # Create a mapping from dfB's name to gender\n",
    "    gender_mapping = db.set_index('name')['gender']\n",
    "\n",
    "    # Fill missing genders in dfA using the mapping\n",
    "    df['gender'] = df['gender'].fillna(df['name'].map(gender_mapping))\n",
    "    return df\n",
    "\n"
   ]
  },
  {
   "cell_type": "code",
   "execution_count": null,
   "metadata": {},
   "outputs": [],
   "source": [
    "def genderize_names(df: pd.DataFrame):\n",
    "    #get the unique names\n",
    "    unique_authors_names_df = pd.DataFrame(df['name'].unique(), columns=['name'])\n",
    "    \n",
    "    #get a clean database of name + gender\n",
    "    name_gender_db_df = clean_name_gender_db()\n",
    "    \n",
    "    #find the missing names in the database\n",
    "    missing_names = find_missing_values_in_db(name_gender_db_df, unique_authors_names_df)\n",
    "    \n",
    "    if not missing_names.empty:\n",
    "        #call the API with the missing names\n",
    "        new_names = get_genders_from_name_api(missing_names.head(5), name_token)\n",
    "        new_names_df = format_new_names(new_names)\n",
    "    \n",
    "        #update the database with the missing names\n",
    "        name_gender_db_df = update_name_gender_db(name_gender_db_df, new_names_df)\n",
    "\n",
    "    #update the authors names df with the new genders\n",
    "    authors_names_and_genders_df = update_gender_from_db(df, name_gender_db_df)\n",
    "    \n",
    "    return df\n",
    "\n",
    "\n",
    "fields_df = genderize_names(authors_names_df)\n",
    "fields_df"
   ]
  },
  {
   "cell_type": "code",
   "execution_count": null,
   "metadata": {},
   "outputs": [],
   "source": [
    "#group by decade\n",
    "fields_df['decade'] = fields_df['year'] // 10 * 10\n",
    "display(fields_df)\n",
    "\n",
    "#proportion of males and females by decade\n",
    "gender_counts = fields_df.groupby(['decade', 'gender']).size().reset_index(name='count')\n",
    "display(gender_counts)\n",
    "\n",
    "total_counts = fields_df.groupby('decade').size().reset_index(name='total')\n",
    "display(total_counts)\n",
    "\n",
    "gender_proportions = pd.merge(gender_counts, total_counts, on='decade')\n",
    "gender_proportions['proportion'] = gender_proportions['count'] / gender_proportions['total']\n",
    "display(gender_proportions)\n",
    "\n",
    "pivot_fields_df = gender_proportions.pivot(index='decade', columns='gender', values='proportion').reset_index()\n",
    "print(pivot_fields_df)\n"
   ]
  },
  {
   "cell_type": "code",
   "execution_count": null,
   "metadata": {},
   "outputs": [],
   "source": [
    "# proportion of males and females by year\n",
    "gender_counts = fields_df.groupby(['year', 'gender']).size().reset_index(name='count')\n",
    "display(gender_counts)\n",
    "\n",
    "total_counts = fields_df.groupby('year').size().reset_index(name='total')\n",
    "display(total_counts)\n",
    "\n",
    "gender_proportions = pd.merge(gender_counts, total_counts, on='year')\n",
    "gender_proportions['proportion'] = gender_proportions['count'] / gender_proportions['total']\n",
    "display(gender_proportions)\n",
    "\n",
    "pivot_fields_df = gender_proportions.pivot(index='year', columns='gender', values='proportion').reset_index()\n",
    "display(pivot_fields_df)\n",
    "\n",
    "# graph the data\n",
    "fig = px.line(pivot_fields_df, x='year', y=['female', 'male'], title='Scientific papers by Gender Over Time')\n",
    "fig.show()\n",
    "\n",
    "# Overlay yearly_ratio and pivot_fields_df\n",
    "fig = px.line(yearly_gender_ratio, x=yearly_gender_ratio.index, y=['female_ratio', 'male_ratio'], title='Yearly Distribution of Nobel Laureates')\n",
    "\n",
    "\n",
    "fig.show()\n",
    "\n",
    "\n",
    "\n"
   ]
  },
  {
   "cell_type": "code",
   "execution_count": null,
   "metadata": {},
   "outputs": [],
   "source": [
    "display(pivot_fields_df)\n",
    "display(nobels_ratio_by_year)\n",
    "\n",
    "# Ensure 'year' columns are of the same data type\n",
    "pivot_fields_df['year'] = pivot_fields_df['year'].astype(int)\n",
    "nobels_ratio_by_year['year'] = nobels_ratio_by_year['year'].astype(int)\n",
    "\n",
    "merged_ratios = pd.merge(pivot_fields_df, nobels_ratio_by_year, left_on='year', right_on='year', suffixes=('_papers', '_nobels'))\n",
    "merged_ratios.rename(columns={\n",
    "    'female': 'Women Scientists',\n",
    "    'male': 'Men Scientists',\n",
    "    'female_ratio_nobels': 'Women Nobel Win',\n",
    "    'male_ratio_nobels': 'Men Nobel Win'\n",
    "}, inplace=True)\n",
    "display(merged_ratios)\n",
    "\n",
    "\n",
    "\"\"\" custom_colors = {\n",
    "    'Men Nobel Win': '#1f77b4',        \n",
    "    'Men Scientists': '#87ceeb',            \n",
    "    'Women Nobel Win': '#cd8816',     \n",
    "    'Women Scientists': '#ffb333',          \n",
    "} \"\"\"\n",
    "\n",
    "# Create the line graph with markers\n",
    "fig = px.line(\n",
    "    merged_ratios,\n",
    "    x='year',\n",
    "    y=[\n",
    "        'Men Nobel Win',\n",
    "        'Men Scientists', \n",
    "        'Women Nobel Win', \n",
    "        'Women Scientists', \n",
    "        ],\n",
    "    title='Gender Ratios in Scientific Papers and Nobel Laureates Over Time',\n",
    "    color_discrete_map=custom_colors,\n",
    ")\n",
    "# Apply a theme\n",
    "fig.update_layout(template='plotly_white')\n",
    "# Update fonts\n",
    "\n",
    "fig.add_annotation(\n",
    "    x=2009,\n",
    "    y=merged_ratios.loc[merged_ratios['year'] == 2009, 'Women Nobel Win'].values[0],\n",
    "    text=\"Rare over representation\",\n",
    "    showarrow=True,\n",
    "    arrowhead=1\n",
    ")\n",
    "\n",
    "fig.show()\n",
    "\n",
    "# Calculate average ratios over time\n",
    "average_ratios_df = merged_ratios.mean().to_frame(name='Average').T\n",
    "average_ratios_df = average_ratios_df.drop(columns='year')\n",
    "display(average_ratios_df)\n",
    "\n",
    "# Create a bar chart for average ratios\n",
    "fig_avg = px.bar(\n",
    "    average_ratios_df.melt(var_name='Category', value_name='Average Ratio'),\n",
    "    x='Category',\n",
    "    y='Average Ratio',\n",
    "    title='Average Gender Ratios in Scientific Papers and Nobel Laureates',\n",
    "    color='Category',\n",
    "    color_discrete_map=custom_colors\n",
    ")\n",
    "fig_avg.update_layout(template='plotly_white')\n",
    "fig_avg.show()\n"
   ]
  }
 ],
 "metadata": {
  "kernelspec": {
   "display_name": "base",
   "language": "python",
   "name": "python3"
  },
  "language_info": {
   "codemirror_mode": {
    "name": "ipython",
    "version": 3
   },
   "file_extension": ".py",
   "mimetype": "text/x-python",
   "name": "python",
   "nbconvert_exporter": "python",
   "pygments_lexer": "ipython3",
   "version": "3.12.4"
  }
 },
 "nbformat": 4,
 "nbformat_minor": 2
}
