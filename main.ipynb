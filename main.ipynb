{
 "cells": [
  {
   "cell_type": "markdown",
   "metadata": {},
   "source": [
    "# API Quest\n",
    "## Oslo"
   ]
  },
  {
   "cell_type": "markdown",
   "metadata": {},
   "source": [
    "# HYPOTHESIS\n",
    "- Rich countries have more Nobel Prizes\n",
    "    - Nobel prize winners immigrate towards rich countries\n",
    "    - Nobel prize winners immigrate towards stable countries\n",
    "- Countries of birth / early education have more impact than countries of higher education\n",
    "- Nobel Prizes Laureates are getting younger\n",
    "- Nobel Prizes are awarded more to international teams than before\n",
    "\n",
    "- Gender Differences: Is there a significant difference in the gender ratio among Nobel Prize winners? Has this changed over time?\n",
    "- Geographic Distribution: In which countries or regions are Nobel Prize winners predominantly located? Has this distribution changed over time?\n",
    "- Age of Winners: What is the age distribution of Nobel Prize winners? Are there any noticeable trends in age?\n",
    "- Publications: Are there specific journals where Nobel Prize winners’ research is commonly published? How influential are these journals?"
   ]
  },
  {
   "cell_type": "markdown",
   "metadata": {},
   "source": [
    "## HYPOTHESIS 1\n",
    "- Men are over represented in Nobel Prizes"
   ]
  },
  {
   "cell_type": "markdown",
   "metadata": {},
   "source": [
    "# DATA SOURCES\n",
    "\n",
    "1. **Nobel Laureates Data**\n",
    "\t- **Nobel Prize Official Data**\n",
    "\t  - Description: Comprehensive information on all Nobel laureates, including their age, nationality, affiliation, prize category, and motivation.\n",
    "\t  - Link: [Nobel Prize Official Website](https://www.nobelprize.org/organization/developer-zone-2/)\n",
    "\t  - API: [Nobel Prize API](https://www.nobelprize.org/organization/developer-zone-2/)\n",
    "\t- **Kaggle Nobel Laureates Dataset**\n",
    "\t  - Description: A dataset compiled from the Nobel Prize official data, available in CSV format for easy analysis.\n",
    "\t  - Link: [Kaggle Nobel Prize Dataset](https://www.kaggle.com/datasets/imdevskp/nobel-prize/data)\n",
    "\n",
    "3. **Economic Indicators**\n",
    "\t- **World Bank GDP Data**\n",
    "\t  - Description: GDP per capita and other economic indicators for countries worldwide.\n",
    "\t  - Link: [World Bank GDP per Capita](https://data.worldbank.org/indicator/NY.GDP.PCAP.CD)\n",
    "\t- **Heritage Foundation Index of Economic Freedom**\n",
    "\t  - Description: Measures economic freedom in countries across 12 quantitative and qualitative factors.\n",
    "\t  - Link: [Index of Economic Freedom](https://www.heritage.org/index/)\n",
    "\n",
    "4. **Education Expenditure and Statistics**\n",
    "\t- **UNESCO Education Data**\n",
    "\t  - Description: Data on government expenditure on education as a percentage of GDP and total government expenditure.\n",
    "\t  - Link: [UNESCO Education Expenditure](http://data.uis.unesco.org/)\n",
    "\t- **OECD Education Statistics**\n",
    "\t  - Description: Detailed statistics on education spending, enrollment rates, and educational attainment among OECD countries.\n",
    "\t  - Link: [OECD Education at a Glance](https://www.oecd.org/education/education-at-a-glance/)\n",
    "\n",
    "5. **Gender Statistics**\n",
    "\t- **UNESCO Gender Parity Index**\n",
    "\t  - Description: Data on gender parity in education and literacy rates.\n",
    "\t  - Link: [UNESCO Gender Equality Data](http://data.uis.unesco.org/)\n",
    "\t- **World Bank Gender Data Portal**\n",
    "\t  - Description: Comprehensive data on gender equality indicators globally.\n",
    "\t  - Link: [World Bank Gender Data](https://datatopics.worldbank.org/gender/)\n",
    "\n",
    "18. **Demographic and Socioeconomic Data**\n",
    "\t - **United Nations Educational, Scientific and Cultural Organization (UNESCO) Institute for Statistics**\n",
    "\t\t- Description: Data on education, literacy rates, and demographic factors.\n",
    "\t\t- Link: [UNESCO UIS Data](http://data.uis.unesco.org/)\n",
    "\t - **OECD Social and Welfare Statistics**\n",
    "\t\t- Description: Indicators on social protection, income inequality, and more.\n",
    "\t\t- Link: [OECD Social Data](https://www.oecd.org/social/soc/)\n",
    "\n"
   ]
  },
  {
   "cell_type": "markdown",
   "metadata": {},
   "source": [
    "## Selected data sources\n",
    "\n",
    "1. Nobel API\n",
    "2. https://uis.unesco.org/\n",
    "3. https://databank.worldbank.org/source/world-development-indicators"
   ]
  },
  {
   "cell_type": "code",
   "execution_count": 578,
   "metadata": {},
   "outputs": [],
   "source": [
    "#imports\n",
    "import os\n",
    "import json\n",
    "import requests\n",
    "import pandas as pd\n",
    "from dotenv import load_dotenv\n",
    "import seaborn as sb"
   ]
  },
  {
   "cell_type": "code",
   "execution_count": 579,
   "metadata": {},
   "outputs": [],
   "source": [
    "#settings\n",
    "pd.set_option('display.max_colwidth', 900)\n",
    "pd.set_option('display.max_rows', 1000)"
   ]
  },
  {
   "cell_type": "code",
   "execution_count": null,
   "metadata": {},
   "outputs": [],
   "source": [
    "#load env\n",
    "load_dotenv()\n",
    "token = os.getenv('TOKEN')\n",
    "print(token)"
   ]
  },
  {
   "cell_type": "code",
   "execution_count": 581,
   "metadata": {},
   "outputs": [],
   "source": [
    "#TODO: Get the data from the API\n",
    "enrollment_df = pd.read_csv('sources/school_enrolment_gender.csv')\n",
    "enrollment_df.head()\n",
    "\n",
    "laureates_url = 'https://api.nobelprize.org/2.1/laureates'"
   ]
  },
  {
   "cell_type": "code",
   "execution_count": 584,
   "metadata": {},
   "outputs": [],
   "source": [
    "def flatten(dictionnary, prefix=''):\n",
    "    flattened = pd.json_normalize(dictionnary)\n",
    "\n",
    "    if prefix:\n",
    "        flattened = flattened.add_prefix(prefix + '.')\n",
    "\n",
    "    for column in flattened.columns:\n",
    "        sample = flattened[column].iloc[0]\n",
    "\n",
    "        if isinstance(sample, list) and len(sample) > 0 and isinstance(sample[0], dict):\n",
    "            # Find the maximum length of lists in the column\n",
    "            max_len = flattened[column].apply(lambda x: len(x) if isinstance(x, list) else 0).max()\n",
    "            for i in range(max_len):\n",
    "                inner_dict = flattened[column].apply(\n",
    "                    lambda x: x[i] if isinstance(x, list) and len(x) > i else None\n",
    "                )\n",
    "                flattened = pd.concat([flattened, flatten(inner_dict, f\"{column}_{i+1}\")], axis=1)\n",
    "            flattened.drop(column, axis=1, inplace=True)\n",
    "\n",
    "    return flattened\n"
   ]
  },
  {
   "cell_type": "code",
   "execution_count": 585,
   "metadata": {},
   "outputs": [],
   "source": [
    "res = requests.get(laureates_url+'?id=6').json()\n",
    "test_data = flatten(res['laureates'])\n",
    "#export_csv = test_data.to_csv(r'./sources/test.csv', index = None, header=True)"
   ]
  },
  {
   "cell_type": "code",
   "execution_count": null,
   "metadata": {},
   "outputs": [],
   "source": [
    "def get_all_laureates():\n",
    "    offset = 0\n",
    "    limit = 25\n",
    "    max = 50\n",
    "    all_laureates = pd.DataFrame()\n",
    "    \n",
    "    while offset < max:\n",
    "        url = f\"{laureates_url}?offset={offset}&limit={limit}\"\n",
    "        response = requests.get(url)\n",
    "        data = response.json()\n",
    "        max = data['meta']['count']\n",
    "        flattened = flatten(data['laureates'])\n",
    "        all_laureates = pd.concat([all_laureates, flattened], ignore_index=True)\n",
    "        offset += limit\n",
    "\n",
    "    all_laureates['id'] = all_laureates['id'].astype(int)\n",
    "    return all_laureates.sort_values('id')\n",
    "\n",
    "laureates_df = get_all_laureates()\n",
    "laureates_df.head()"
   ]
  },
  {
   "cell_type": "code",
   "execution_count": 587,
   "metadata": {},
   "outputs": [],
   "source": [
    "export_csv = laureates_df.to_csv(r'./sources/nobel_laureates.csv', index = None, header=True)"
   ]
  }
 ],
 "metadata": {
  "kernelspec": {
   "display_name": "base",
   "language": "python",
   "name": "python3"
  },
  "language_info": {
   "codemirror_mode": {
    "name": "ipython",
    "version": 3
   },
   "file_extension": ".py",
   "mimetype": "text/x-python",
   "name": "python",
   "nbconvert_exporter": "python",
   "pygments_lexer": "ipython3",
   "version": "3.12.4"
  }
 },
 "nbformat": 4,
 "nbformat_minor": 2
}
