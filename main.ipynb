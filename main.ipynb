{
 "cells": [
  {
   "cell_type": "markdown",
   "metadata": {},
   "source": [
    "# API Quest\n",
    "## Oslo"
   ]
  },
  {
   "cell_type": "markdown",
   "metadata": {},
   "source": [
    "# HYPOTHESIS\n",
    "- Rich countries have more Nobel Prizes\n",
    "    - Nobel prize winners immigrate towards rich countries\n",
    "    - Nobel prize winners immigrate towards stable countries\n",
    "- Countries of birth / early education have more impact than countries of higher education\n",
    "- Nobel Prizes Laureates are getting younger\n",
    "- Nobel Prizes are awarded more to international teams than before\n",
    "\n",
    "- Gender Differences: Is there a significant difference in the gender ratio among Nobel Prize winners? Has this changed over time?\n",
    "- Geographic Distribution: In which countries or regions are Nobel Prize winners predominantly located? Has this distribution changed over time?\n",
    "- Age of Winners: What is the age distribution of Nobel Prize winners? Are there any noticeable trends in age?\n",
    "- Publications: Are there specific journals where Nobel Prize winners’ research is commonly published? How influential are these journals?"
   ]
  },
  {
   "cell_type": "markdown",
   "metadata": {},
   "source": [
    "## HYPOTHESIS 1\n",
    "- Men are over represented in Nobel Prizes"
   ]
  },
  {
   "cell_type": "markdown",
   "metadata": {},
   "source": [
    "# DATA SOURCES\n",
    "\n",
    "1. **Nobel Laureates Data**\n",
    "\t- **Nobel Prize Official Data**\n",
    "\t  - Description: Comprehensive information on all Nobel laureates, including their age, nationality, affiliation, prize category, and motivation.\n",
    "\t  - Link: [Nobel Prize Official Website](https://www.nobelprize.org/organization/developer-zone-2/)\n",
    "\t  - API: [Nobel Prize API](https://www.nobelprize.org/organization/developer-zone-2/)\n",
    "\t- **Kaggle Nobel Laureates Dataset**\n",
    "\t  - Description: A dataset compiled from the Nobel Prize official data, available in CSV format for easy analysis.\n",
    "\t  - Link: [Kaggle Nobel Prize Dataset](https://www.kaggle.com/datasets/imdevskp/nobel-prize/data)\n",
    "\n",
    "3. **Economic Indicators**\n",
    "\t- **World Bank GDP Data**\n",
    "\t  - Description: GDP per capita and other economic indicators for countries worldwide.\n",
    "\t  - Link: [World Bank GDP per Capita](https://data.worldbank.org/indicator/NY.GDP.PCAP.CD)\n",
    "\t- **Heritage Foundation Index of Economic Freedom**\n",
    "\t  - Description: Measures economic freedom in countries across 12 quantitative and qualitative factors.\n",
    "\t  - Link: [Index of Economic Freedom](https://www.heritage.org/index/)\n",
    "\n",
    "4. **Education Expenditure and Statistics**\n",
    "\t- **UNESCO Education Data**\n",
    "\t  - Description: Data on government expenditure on education as a percentage of GDP and total government expenditure.\n",
    "\t  - Link: [UNESCO Education Expenditure](http://data.uis.unesco.org/)\n",
    "\t- **OECD Education Statistics**\n",
    "\t  - Description: Detailed statistics on education spending, enrollment rates, and educational attainment among OECD countries.\n",
    "\t  - Link: [OECD Education at a Glance](https://www.oecd.org/education/education-at-a-glance/)\n",
    "\n",
    "5. **Gender Statistics**\n",
    "\t- **UNESCO Gender Parity Index**\n",
    "\t  - Description: Data on gender parity in education and literacy rates.\n",
    "\t  - Link: [UNESCO Gender Equality Data](http://data.uis.unesco.org/)\n",
    "\t- **World Bank Gender Data Portal**\n",
    "\t  - Description: Comprehensive data on gender equality indicators globally.\n",
    "\t  - Link: [World Bank Gender Data](https://datatopics.worldbank.org/gender/)\n",
    "\n",
    "18. **Demographic and Socioeconomic Data**\n",
    "\t - **United Nations Educational, Scientific and Cultural Organization (UNESCO) Institute for Statistics**\n",
    "\t\t- Description: Data on education, literacy rates, and demographic factors.\n",
    "\t\t- Link: [UNESCO UIS Data](http://data.uis.unesco.org/)\n",
    "\t - **OECD Social and Welfare Statistics**\n",
    "\t\t- Description: Indicators on social protection, income inequality, and more.\n",
    "\t\t- Link: [OECD Social Data](https://www.oecd.org/social/soc/)\n",
    "\n"
   ]
  },
  {
   "cell_type": "markdown",
   "metadata": {},
   "source": [
    "## Selected data sources\n",
    "\n",
    "1. Nobel API\n",
    "2. https://uis.unesco.org/\n",
    "3. https://databank.worldbank.org/source/world-development-indicators"
   ]
  },
  {
   "cell_type": "code",
   "execution_count": null,
   "metadata": {},
   "outputs": [],
   "source": [
    "#TODO filter STEM fields\n",
    "#TODO modularize"
   ]
  },
  {
   "cell_type": "code",
   "execution_count": 779,
   "metadata": {},
   "outputs": [],
   "source": [
    "#imports\n",
    "import os\n",
    "import json\n",
    "import requests\n",
    "import pandas as pd\n",
    "from dotenv import load_dotenv\n",
    "import plotly.express as px"
   ]
  },
  {
   "cell_type": "code",
   "execution_count": 780,
   "metadata": {},
   "outputs": [],
   "source": [
    "#settings\n",
    "pd.set_option('display.max_colwidth', 900)\n",
    "pd.set_option('display.max_rows', 50)"
   ]
  },
  {
   "cell_type": "code",
   "execution_count": null,
   "metadata": {},
   "outputs": [],
   "source": [
    "#load env\n",
    "load_dotenv()\n",
    "token = os.getenv('TOKEN')\n",
    "print(token)"
   ]
  },
  {
   "cell_type": "code",
   "execution_count": 782,
   "metadata": {},
   "outputs": [],
   "source": [
    "#TODO: Get the data from the API\n",
    "enrollment_df = pd.read_csv('sources/school_enrolment_gender.csv')\n",
    "enrollment_df.head()\n",
    "\n",
    "laureates_url = 'https://api.nobelprize.org/2.1/laureates'"
   ]
  },
  {
   "cell_type": "code",
   "execution_count": 783,
   "metadata": {},
   "outputs": [],
   "source": [
    "def flatten(dictionnary, prefix=''):\n",
    "    flattened = pd.json_normalize(dictionnary)\n",
    "\n",
    "    if prefix:\n",
    "        flattened = flattened.add_prefix(prefix + '.')\n",
    "\n",
    "    for column in flattened.columns:\n",
    "        sample = flattened[column].iloc[0]\n",
    "\n",
    "        if isinstance(sample, list) and len(sample) > 0 and isinstance(sample[0], dict):\n",
    "            # Find the maximum length of lists in the column\n",
    "            max_len = flattened[column].apply(lambda x: len(x) if isinstance(x, list) else 0).max()\n",
    "            for i in range(max_len):\n",
    "                inner_dict = flattened[column].apply(\n",
    "                    lambda x: x[i] if isinstance(x, list) and len(x) > i else None\n",
    "                )\n",
    "                flattened = pd.concat([flattened, flatten(inner_dict, f\"{column}_{i+1}\")], axis=1)\n",
    "            flattened.drop(column, axis=1, inplace=True)\n",
    "\n",
    "    return flattened\n"
   ]
  },
  {
   "cell_type": "code",
   "execution_count": null,
   "metadata": {},
   "outputs": [],
   "source": [
    "def get_all_laureates():\n",
    "    offset = 0\n",
    "    limit = 25\n",
    "    max = 50\n",
    "    all_laureates = pd.DataFrame()\n",
    "    \n",
    "    while offset < max:\n",
    "        url = f\"{laureates_url}?offset={offset}&limit={limit}\"\n",
    "        response = requests.get(url)\n",
    "        data = response.json()\n",
    "        max = data['meta']['count']\n",
    "        flattened = flatten(data['laureates'])\n",
    "        all_laureates = pd.concat([all_laureates, flattened], ignore_index=True)\n",
    "        offset += limit\n",
    "\n",
    "    all_laureates['id'] = all_laureates['id'].astype(int)\n",
    "    return all_laureates.sort_values('id')\n",
    "\n",
    "laureates_df = get_all_laureates()\n",
    "laureates_df.head()"
   ]
  },
  {
   "cell_type": "code",
   "execution_count": 785,
   "metadata": {},
   "outputs": [],
   "source": [
    "gender_columns = [\n",
    "    {'id': {'original_name': 'id','dtype': 'int64'}},\n",
    "    {'name': {'original_name': 'knownName.en','dtype': 'object'}},\n",
    "    {'gender': {'original_name': 'gender','dtype': 'category'}},\n",
    "    {'award_year': {'original_name': 'nobelPrizes_1.awardYear','dtype': 'int64'}},\n",
    "]"
   ]
  },
  {
   "cell_type": "code",
   "execution_count": null,
   "metadata": {},
   "outputs": [],
   "source": [
    "\n",
    "gender_df = laureates_df[[value['original_name'] for column in gender_columns for key, value in column.items()]].sort_values('id')\n",
    "gender_df = gender_df.rename(columns={value['original_name']: key for column in gender_columns for key, value in column.items()})\n",
    "display(gender_df.head())\n",
    "\n",
    "gender_counts = gender_df.groupby('gender').aggregate({'id': 'count'}).reset_index()\n",
    "gender_counts['proportion'] = gender_counts['id'] / gender_counts['id'].sum()\n",
    "gender_counts['proportion'] = gender_counts['proportion'].apply(lambda x: f\"{x:.0%}\")\n",
    "gender_counts.sort_values('proportion', ascending=False, inplace=True)\n",
    "gender_counts.index = range(1, len(gender_counts) + 1)\n",
    "display(gender_counts)\n"
   ]
  },
  {
   "cell_type": "code",
   "execution_count": null,
   "metadata": {},
   "outputs": [],
   "source": [
    "yearly_ratio = gender_df.groupby(['award_year','gender']).size().unstack(fill_value=0)\n",
    "display(yearly_ratio[['female','male']])\n",
    "yearly_ratio['total'] = yearly_ratio.sum(axis=1)\n",
    "yearly_ratio['female_ratio'] = yearly_ratio['female'] / yearly_ratio['total']\n",
    "yearly_ratio['male_ratio'] = yearly_ratio['male'] / yearly_ratio['total']\n",
    "display(yearly_ratio[['female_ratio','male_ratio']])\n"
   ]
  },
  {
   "cell_type": "code",
   "execution_count": null,
   "metadata": {},
   "outputs": [],
   "source": [
    "gender_cumulative = gender_df.groupby(['award_year', 'gender']).size().unstack(fill_value=0).cumsum()\n",
    "gender_cumulative['total'] = gender_cumulative.sum(axis=1)\n",
    "gender_cumulative['male_proportion'] = gender_cumulative['male'] / gender_cumulative['total']\n",
    "gender_cumulative['female_proportion'] = gender_cumulative['female'] / gender_cumulative['total']\n",
    "display(gender_cumulative[['male_proportion', 'female_proportion']])"
   ]
  },
  {
   "cell_type": "code",
   "execution_count": null,
   "metadata": {},
   "outputs": [],
   "source": [
    "fig = px.bar(gender_counts, x='gender', y='id', text='proportion', title='Gender Distribution of Nobel Laureates')\n",
    "fig.show()"
   ]
  },
  {
   "cell_type": "code",
   "execution_count": null,
   "metadata": {},
   "outputs": [],
   "source": [
    "fig = px.line(gender_cumulative, x=gender_cumulative.index, y=['female', 'male'], title='Cumulative Gender Distribution of Nobel Laureates')\n",
    "fig.show()"
   ]
  },
  {
   "cell_type": "code",
   "execution_count": null,
   "metadata": {},
   "outputs": [],
   "source": [
    "fig = px.line(gender_cumulative, x=gender_cumulative.index, y=['female_proportion', 'male_proportion'], title='Cumulative Proportion of Nobel Laureates by gender')\n",
    "fig.show()"
   ]
  },
  {
   "cell_type": "code",
   "execution_count": null,
   "metadata": {},
   "outputs": [],
   "source": [
    "fig = px.line(yearly_ratio, x=yearly_ratio.index, y=['female_ratio', 'male_ratio'], title='Yearly Gender Distribution of Nobel Laureates')\n",
    "fig.show()"
   ]
  }
 ],
 "metadata": {
  "kernelspec": {
   "display_name": "base",
   "language": "python",
   "name": "python3"
  },
  "language_info": {
   "codemirror_mode": {
    "name": "ipython",
    "version": 3
   },
   "file_extension": ".py",
   "mimetype": "text/x-python",
   "name": "python",
   "nbconvert_exporter": "python",
   "pygments_lexer": "ipython3",
   "version": "3.12.4"
  }
 },
 "nbformat": 4,
 "nbformat_minor": 2
}
