{
 "cells": [
  {
   "cell_type": "code",
   "execution_count": null,
   "metadata": {},
   "outputs": [],
   "source": [
    "# API Quest\n",
    "## Oslo "
   ]
  },
  {
   "cell_type": "code",
   "execution_count": 5,
   "metadata": {},
   "outputs": [],
   "source": [
    "import os\n",
    "import json\n",
    "import requests\n",
    "import pandas as pd\n",
    "from dotenv import load_dotenv\n",
    "\n"
   ]
  },
  {
   "cell_type": "code",
   "execution_count": 6,
   "metadata": {},
   "outputs": [
    {
     "name": "stdout",
     "output_type": "stream",
     "text": [
      "test\n"
     ]
    }
   ],
   "source": [
    "load_dotenv()\n",
    "token = os.getenv('TOKEN')\n",
    "print(token)"
   ]
  },
  {
   "cell_type": "code",
   "execution_count": 144,
   "metadata": {},
   "outputs": [
    {
     "name": "stdout",
     "output_type": "stream",
     "text": [
      "Index(['Name', 'Gender', 'Birth_date', 'Birth_country', 'Current_Country',\n",
      "       'Continent', 'award_year', 'Prize_category', 'Prize_affiliations',\n",
      "       'wikipedia_details', 'Award_age'],\n",
      "      dtype='object')\n"
     ]
    },
    {
     "name": "stderr",
     "output_type": "stream",
     "text": [
      "C:\\Users\\dell\\AppData\\Local\\Temp\\ipykernel_34284\\916143232.py:39: UserWarning: Could not infer format, so each element will be parsed individually, falling back to `dateutil`. To ensure parsing is consistent and as-expected, please specify a format.\n",
      "  df['Birth_date'] = pd.to_datetime(df['Birth_date'],errors = 'coerce')\n"
     ]
    }
   ],
   "source": [
    "import pandas as pd\n",
    "import json\n",
    "import requests\n",
    "from datetime import datetime\n",
    "\n",
    "url= \"https://api.nobelprize.org/2.1/laureates\"\n",
    "response = requests.get(url)\n",
    "data = response.json()\n",
    "laureate_infos = {}\n",
    "\n",
    "for laureate in data['laureates']:\n",
    "    \n",
    "    laureate_infos[laureate['id']]= {\n",
    "        'Name': laureate['knownName']['en'],\n",
    "        'Gender': laureate.get('gender',None),\n",
    "        'Birth_date': laureate['birth']['date'],\n",
    "        \n",
    "        'Birth_country': laureate['birth']['place']['country']['en'] if 'birth' in laureate and 'place' in laureate['birth'] and 'country' in \n",
    "        laureate['birth']['place'] else 'None',\n",
    "        \n",
    "        'Current_Country': laureate['birth']['place']['countryNow']['en'] if 'birth' in laureate and 'place' in laureate['birth'] and 'country' in \n",
    "        laureate['birth']['place'] else 'None',\n",
    "\n",
    "        'Continent': laureate['birth']['place']['continent']['en'] if 'birth' in laureate and 'place' in laureate['birth'] and 'continent' in \n",
    "        laureate['birth']['place'] else 'None',\n",
    "       \n",
    "        'award_year': laureate['nobelPrizes'][0]['awardYear'],\n",
    "        \n",
    "        'Prize_category': laureate['nobelPrizes'][0]['category']['en'],    \n",
    "        \n",
    "        'Prize_affiliations': laureate['nobelPrizes'][0]['affiliations'][0]['nameNow']['en'] if 'nobelPrizes' in laureate and 'affiliations'\n",
    "         in laureate['nobelPrizes'][0] and 'nameNow' in laureate['nobelPrizes'][0]['affiliations'][0] else 'None',\n",
    "        \n",
    "        'wikipedia_details': laureate['wikipedia']['english'] if 'wikipedia' in laureate and 'english' in laureate['wikipedia'] else 'None'}\n",
    "                                 \n",
    "df = pd.DataFrame.from_dict(laureate_infos,orient ='index')\n",
    "\n",
    "df['award_year'] = pd.to_numeric(df['award_year'],errors = 'coerce')\n",
    "df['Birth_date'] = pd.to_datetime(df['Birth_date'],errors = 'coerce')\n",
    "\n",
    "df['Award_age']=df['award_year']-df['Birth_date'].dt.year\n",
    "df['Award_age']=df['Award_age'].fillna(0).astype(int)\n",
    "\n",
    "print(df.columns)\n",
    "                              \n",
    "                         \n",
    "        \n",
    "                          \n",
    "                            \n",
    "    "
   ]
  },
  {
   "cell_type": "code",
   "execution_count": null,
   "metadata": {},
   "outputs": [],
   "source": []
  }
 ],
 "metadata": {
  "kernelspec": {
   "display_name": "Python 3 (ipykernel)",
   "language": "python",
   "name": "python3"
  },
  "language_info": {
   "codemirror_mode": {
    "name": "ipython",
    "version": 3
   },
   "file_extension": ".py",
   "mimetype": "text/x-python",
   "name": "python",
   "nbconvert_exporter": "python",
   "pygments_lexer": "ipython3",
   "version": "3.12.4"
  }
 },
 "nbformat": 4,
 "nbformat_minor": 4
}
